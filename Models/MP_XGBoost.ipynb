{
  "nbformat": 4,
  "nbformat_minor": 0,
  "metadata": {
    "colab": {
      "provenance": [],
      "include_colab_link": true
    },
    "kernelspec": {
      "name": "python3",
      "display_name": "Python 3"
    },
    "language_info": {
      "name": "python"
    },
    "accelerator": "GPU",
    "gpuClass": "standard"
  },
  "cells": [
    {
      "cell_type": "markdown",
      "metadata": {
        "id": "view-in-github",
        "colab_type": "text"
      },
      "source": [
        "<a href=\"https://colab.research.google.com/github/Saket03-P/Ethereum-Transactions-Fraud-Detection/blob/main/Models/MP_XGBoost.ipynb\" target=\"_parent\"><img src=\"https://colab.research.google.com/assets/colab-badge.svg\" alt=\"Open In Colab\"/></a>"
      ]
    },
    {
      "cell_type": "markdown",
      "source": [
        "# Ethereum Fraud Detection using XGBoost\n",
        "\n",
        "[XGBoost](https://xgboost.readthedocs.io/en/stable/)"
      ],
      "metadata": {
        "id": "qg7BbE9TSWy2"
      }
    },
    {
      "cell_type": "code",
      "execution_count": null,
      "metadata": {
        "id": "aOf1uchERe7n"
      },
      "outputs": [],
      "source": [
        "# Import following libraries.\n",
        "\n",
        "import pandas as pd\n",
        "import numpy as np\n",
        "import seaborn as sns\n",
        "import matplotlib.pyplot as plt\n",
        "\n",
        "import warnings\n",
        "warnings.filterwarnings('ignore')\n",
        "%matplotlib inline"
      ]
    },
    {
      "cell_type": "code",
      "source": [
        "# Mount colab to google drive.\n",
        "from google.colab import drive\n",
        "\n",
        "drive.mount('/content/gdrive')"
      ],
      "metadata": {
        "colab": {
          "base_uri": "https://localhost:8080/"
        },
        "id": "xI7tQRgDR0nn",
        "outputId": "8b263779-2e85-4b50-e88a-05c34485254d"
      },
      "execution_count": null,
      "outputs": [
        {
          "output_type": "stream",
          "name": "stdout",
          "text": [
            "Drive already mounted at /content/gdrive; to attempt to forcibly remount, call drive.mount(\"/content/gdrive\", force_remount=True).\n"
          ]
        }
      ]
    },
    {
      "cell_type": "code",
      "source": [
        "# Retrieve the csv file from google drive.\n",
        "\n",
        "path= '/content/gdrive/MyDrive/Cost Sensitive Approach for Ethereum Transactions Fraud Detection using Machine Learning/increased_transaction_dataset.csv'\n",
        "dft= pd.read_csv(path)\n",
        "dft.sample(5)"
      ],
      "metadata": {
        "colab": {
          "base_uri": "https://localhost:8080/",
          "height": 374
        },
        "id": "4yF8lSa2R7Ry",
        "outputId": "a7e63f36-6a99-4a34-d6b6-4fb85665d982"
      },
      "execution_count": null,
      "outputs": [
        {
          "output_type": "execute_result",
          "data": {
            "text/plain": [
              "       Unnamed: 0         FLAG  Avg min between sent tnx  \\\n",
              "18727       18727  Non - Fraud                    466.01   \n",
              "5985         5985  Non - Fraud                      0.00   \n",
              "661           661        Fraud                      0.00   \n",
              "3146         3146        Fraud                      0.00   \n",
              "10616       10616        Fraud                     28.24   \n",
              "\n",
              "       Avg min between received tnx  Time Diff between first and last (Mins)  \\\n",
              "18727                      0.000000                             13936.697680   \n",
              "5985                    2752.640000                            319306.250000   \n",
              "661                        0.000000                                 0.000000   \n",
              "3146                    1001.760000                             47115.170000   \n",
              "10616                    408.643237                              3706.533586   \n",
              "\n",
              "       Sent tnx  Received Tnx  Number of Created Contracts  \\\n",
              "18727         9             0                            0   \n",
              "5985          0           116                            1   \n",
              "661           0             0                            0   \n",
              "3146          1             8                            0   \n",
              "10616         0             5                            0   \n",
              "\n",
              "       max value received   avg val received  avg val sent  total Ether sent  \\\n",
              "18727           113.484531         61.673433      5.689906        915.801375   \n",
              "5985              1.005229          0.594147      0.000000          0.000000   \n",
              "661               0.000000          0.000000      0.000000          0.000000   \n",
              "3146              9.000000          2.004672     16.036330         16.036330   \n",
              "10616            23.901216          9.804059      0.000000        114.416949   \n",
              "\n",
              "       total ether balance   ERC20 total Ether received  \\\n",
              "18727          -450.902941                 0.000000e+00   \n",
              "5985             68.921092                 6.751037e+00   \n",
              "661               0.000000                 1.337000e+01   \n",
              "3146              0.001050                 1.000000e-12   \n",
              "10616           269.218577                 3.752934e+06   \n",
              "\n",
              "        ERC20 total ether sent   ERC20 total Ether sent contract  \\\n",
              "18727             4.604528e+06                               0.0   \n",
              "5985              0.000000e+00                               0.0   \n",
              "661               0.000000e+00                               0.0   \n",
              "3146              0.000000e+00                               0.0   \n",
              "10616             1.974439e+06                               0.0   \n",
              "\n",
              "        ERC20 uniq sent addr   ERC20 uniq rec token name  \\\n",
              "18727                    1.0                         0.0   \n",
              "5985                     0.0                         4.0   \n",
              "661                      0.0                         1.0   \n",
              "3146                     0.0                         1.0   \n",
              "10616                    0.0                         1.0   \n",
              "\n",
              "        ERC20 most sent token type   ERC20_most_rec_token_type  \n",
              "18727                            5                           3  \n",
              "5985                           185                         119  \n",
              "661                              1                          74  \n",
              "3146                            -1                          -1  \n",
              "10616                           -1                           1  "
            ],
            "text/html": [
              "\n",
              "  <div id=\"df-8fed1071-c539-43df-8713-f25e5325ca91\">\n",
              "    <div class=\"colab-df-container\">\n",
              "      <div>\n",
              "<style scoped>\n",
              "    .dataframe tbody tr th:only-of-type {\n",
              "        vertical-align: middle;\n",
              "    }\n",
              "\n",
              "    .dataframe tbody tr th {\n",
              "        vertical-align: top;\n",
              "    }\n",
              "\n",
              "    .dataframe thead th {\n",
              "        text-align: right;\n",
              "    }\n",
              "</style>\n",
              "<table border=\"1\" class=\"dataframe\">\n",
              "  <thead>\n",
              "    <tr style=\"text-align: right;\">\n",
              "      <th></th>\n",
              "      <th>Unnamed: 0</th>\n",
              "      <th>FLAG</th>\n",
              "      <th>Avg min between sent tnx</th>\n",
              "      <th>Avg min between received tnx</th>\n",
              "      <th>Time Diff between first and last (Mins)</th>\n",
              "      <th>Sent tnx</th>\n",
              "      <th>Received Tnx</th>\n",
              "      <th>Number of Created Contracts</th>\n",
              "      <th>max value received</th>\n",
              "      <th>avg val received</th>\n",
              "      <th>avg val sent</th>\n",
              "      <th>total Ether sent</th>\n",
              "      <th>total ether balance</th>\n",
              "      <th>ERC20 total Ether received</th>\n",
              "      <th>ERC20 total ether sent</th>\n",
              "      <th>ERC20 total Ether sent contract</th>\n",
              "      <th>ERC20 uniq sent addr</th>\n",
              "      <th>ERC20 uniq rec token name</th>\n",
              "      <th>ERC20 most sent token type</th>\n",
              "      <th>ERC20_most_rec_token_type</th>\n",
              "    </tr>\n",
              "  </thead>\n",
              "  <tbody>\n",
              "    <tr>\n",
              "      <th>18727</th>\n",
              "      <td>18727</td>\n",
              "      <td>Non - Fraud</td>\n",
              "      <td>466.01</td>\n",
              "      <td>0.000000</td>\n",
              "      <td>13936.697680</td>\n",
              "      <td>9</td>\n",
              "      <td>0</td>\n",
              "      <td>0</td>\n",
              "      <td>113.484531</td>\n",
              "      <td>61.673433</td>\n",
              "      <td>5.689906</td>\n",
              "      <td>915.801375</td>\n",
              "      <td>-450.902941</td>\n",
              "      <td>0.000000e+00</td>\n",
              "      <td>4.604528e+06</td>\n",
              "      <td>0.0</td>\n",
              "      <td>1.0</td>\n",
              "      <td>0.0</td>\n",
              "      <td>5</td>\n",
              "      <td>3</td>\n",
              "    </tr>\n",
              "    <tr>\n",
              "      <th>5985</th>\n",
              "      <td>5985</td>\n",
              "      <td>Non - Fraud</td>\n",
              "      <td>0.00</td>\n",
              "      <td>2752.640000</td>\n",
              "      <td>319306.250000</td>\n",
              "      <td>0</td>\n",
              "      <td>116</td>\n",
              "      <td>1</td>\n",
              "      <td>1.005229</td>\n",
              "      <td>0.594147</td>\n",
              "      <td>0.000000</td>\n",
              "      <td>0.000000</td>\n",
              "      <td>68.921092</td>\n",
              "      <td>6.751037e+00</td>\n",
              "      <td>0.000000e+00</td>\n",
              "      <td>0.0</td>\n",
              "      <td>0.0</td>\n",
              "      <td>4.0</td>\n",
              "      <td>185</td>\n",
              "      <td>119</td>\n",
              "    </tr>\n",
              "    <tr>\n",
              "      <th>661</th>\n",
              "      <td>661</td>\n",
              "      <td>Fraud</td>\n",
              "      <td>0.00</td>\n",
              "      <td>0.000000</td>\n",
              "      <td>0.000000</td>\n",
              "      <td>0</td>\n",
              "      <td>0</td>\n",
              "      <td>0</td>\n",
              "      <td>0.000000</td>\n",
              "      <td>0.000000</td>\n",
              "      <td>0.000000</td>\n",
              "      <td>0.000000</td>\n",
              "      <td>0.000000</td>\n",
              "      <td>1.337000e+01</td>\n",
              "      <td>0.000000e+00</td>\n",
              "      <td>0.0</td>\n",
              "      <td>0.0</td>\n",
              "      <td>1.0</td>\n",
              "      <td>1</td>\n",
              "      <td>74</td>\n",
              "    </tr>\n",
              "    <tr>\n",
              "      <th>3146</th>\n",
              "      <td>3146</td>\n",
              "      <td>Fraud</td>\n",
              "      <td>0.00</td>\n",
              "      <td>1001.760000</td>\n",
              "      <td>47115.170000</td>\n",
              "      <td>1</td>\n",
              "      <td>8</td>\n",
              "      <td>0</td>\n",
              "      <td>9.000000</td>\n",
              "      <td>2.004672</td>\n",
              "      <td>16.036330</td>\n",
              "      <td>16.036330</td>\n",
              "      <td>0.001050</td>\n",
              "      <td>1.000000e-12</td>\n",
              "      <td>0.000000e+00</td>\n",
              "      <td>0.0</td>\n",
              "      <td>0.0</td>\n",
              "      <td>1.0</td>\n",
              "      <td>-1</td>\n",
              "      <td>-1</td>\n",
              "    </tr>\n",
              "    <tr>\n",
              "      <th>10616</th>\n",
              "      <td>10616</td>\n",
              "      <td>Fraud</td>\n",
              "      <td>28.24</td>\n",
              "      <td>408.643237</td>\n",
              "      <td>3706.533586</td>\n",
              "      <td>0</td>\n",
              "      <td>5</td>\n",
              "      <td>0</td>\n",
              "      <td>23.901216</td>\n",
              "      <td>9.804059</td>\n",
              "      <td>0.000000</td>\n",
              "      <td>114.416949</td>\n",
              "      <td>269.218577</td>\n",
              "      <td>3.752934e+06</td>\n",
              "      <td>1.974439e+06</td>\n",
              "      <td>0.0</td>\n",
              "      <td>0.0</td>\n",
              "      <td>1.0</td>\n",
              "      <td>-1</td>\n",
              "      <td>1</td>\n",
              "    </tr>\n",
              "  </tbody>\n",
              "</table>\n",
              "</div>\n",
              "      <button class=\"colab-df-convert\" onclick=\"convertToInteractive('df-8fed1071-c539-43df-8713-f25e5325ca91')\"\n",
              "              title=\"Convert this dataframe to an interactive table.\"\n",
              "              style=\"display:none;\">\n",
              "        \n",
              "  <svg xmlns=\"http://www.w3.org/2000/svg\" height=\"24px\"viewBox=\"0 0 24 24\"\n",
              "       width=\"24px\">\n",
              "    <path d=\"M0 0h24v24H0V0z\" fill=\"none\"/>\n",
              "    <path d=\"M18.56 5.44l.94 2.06.94-2.06 2.06-.94-2.06-.94-.94-2.06-.94 2.06-2.06.94zm-11 1L8.5 8.5l.94-2.06 2.06-.94-2.06-.94L8.5 2.5l-.94 2.06-2.06.94zm10 10l.94 2.06.94-2.06 2.06-.94-2.06-.94-.94-2.06-.94 2.06-2.06.94z\"/><path d=\"M17.41 7.96l-1.37-1.37c-.4-.4-.92-.59-1.43-.59-.52 0-1.04.2-1.43.59L10.3 9.45l-7.72 7.72c-.78.78-.78 2.05 0 2.83L4 21.41c.39.39.9.59 1.41.59.51 0 1.02-.2 1.41-.59l7.78-7.78 2.81-2.81c.8-.78.8-2.07 0-2.86zM5.41 20L4 18.59l7.72-7.72 1.47 1.35L5.41 20z\"/>\n",
              "  </svg>\n",
              "      </button>\n",
              "      \n",
              "  <style>\n",
              "    .colab-df-container {\n",
              "      display:flex;\n",
              "      flex-wrap:wrap;\n",
              "      gap: 12px;\n",
              "    }\n",
              "\n",
              "    .colab-df-convert {\n",
              "      background-color: #E8F0FE;\n",
              "      border: none;\n",
              "      border-radius: 50%;\n",
              "      cursor: pointer;\n",
              "      display: none;\n",
              "      fill: #1967D2;\n",
              "      height: 32px;\n",
              "      padding: 0 0 0 0;\n",
              "      width: 32px;\n",
              "    }\n",
              "\n",
              "    .colab-df-convert:hover {\n",
              "      background-color: #E2EBFA;\n",
              "      box-shadow: 0px 1px 2px rgba(60, 64, 67, 0.3), 0px 1px 3px 1px rgba(60, 64, 67, 0.15);\n",
              "      fill: #174EA6;\n",
              "    }\n",
              "\n",
              "    [theme=dark] .colab-df-convert {\n",
              "      background-color: #3B4455;\n",
              "      fill: #D2E3FC;\n",
              "    }\n",
              "\n",
              "    [theme=dark] .colab-df-convert:hover {\n",
              "      background-color: #434B5C;\n",
              "      box-shadow: 0px 1px 3px 1px rgba(0, 0, 0, 0.15);\n",
              "      filter: drop-shadow(0px 1px 2px rgba(0, 0, 0, 0.3));\n",
              "      fill: #FFFFFF;\n",
              "    }\n",
              "  </style>\n",
              "\n",
              "      <script>\n",
              "        const buttonEl =\n",
              "          document.querySelector('#df-8fed1071-c539-43df-8713-f25e5325ca91 button.colab-df-convert');\n",
              "        buttonEl.style.display =\n",
              "          google.colab.kernel.accessAllowed ? 'block' : 'none';\n",
              "\n",
              "        async function convertToInteractive(key) {\n",
              "          const element = document.querySelector('#df-8fed1071-c539-43df-8713-f25e5325ca91');\n",
              "          const dataTable =\n",
              "            await google.colab.kernel.invokeFunction('convertToInteractive',\n",
              "                                                     [key], {});\n",
              "          if (!dataTable) return;\n",
              "\n",
              "          const docLinkHtml = 'Like what you see? Visit the ' +\n",
              "            '<a target=\"_blank\" href=https://colab.research.google.com/notebooks/data_table.ipynb>data table notebook</a>'\n",
              "            + ' to learn more about interactive tables.';\n",
              "          element.innerHTML = '';\n",
              "          dataTable['output_type'] = 'display_data';\n",
              "          await google.colab.output.renderOutput(dataTable, element);\n",
              "          const docLink = document.createElement('div');\n",
              "          docLink.innerHTML = docLinkHtml;\n",
              "          element.appendChild(docLink);\n",
              "        }\n",
              "      </script>\n",
              "    </div>\n",
              "  </div>\n",
              "  "
            ]
          },
          "metadata": {},
          "execution_count": 3
        }
      ]
    },
    {
      "cell_type": "code",
      "source": [
        "# Separate target column from the rest of the dataset.\n",
        "\n",
        "X= dft[['Avg min between sent tnx',\n",
        "       'Avg min between received tnx',\n",
        "       'Time Diff between first and last (Mins)', 'Sent tnx', 'Received Tnx',\n",
        "       'Number of Created Contracts', 'max value received ',\n",
        "       'avg val received', 'avg val sent', 'total Ether sent',\n",
        "       'total ether balance', ' ERC20 total Ether received',\n",
        "       ' ERC20 total ether sent', ' ERC20 total Ether sent contract',\n",
        "       ' ERC20 uniq sent addr', ' ERC20 uniq rec token name',\n",
        "       ' ERC20 most sent token type', ' ERC20_most_rec_token_type']]\n",
        "\n",
        "y= dft[['FLAG']]"
      ],
      "metadata": {
        "id": "0i6uB4YEW11Y"
      },
      "execution_count": null,
      "outputs": []
    },
    {
      "cell_type": "code",
      "source": [
        "# Change to Numeric Columns for Cost Sensitive Learning.\n",
        "\n",
        "y= y.replace('Fraud', 1)\n",
        "y= y.replace('Non - Fraud', 0)\n",
        "\n",
        "y.value_counts()"
      ],
      "metadata": {
        "colab": {
          "base_uri": "https://localhost:8080/"
        },
        "id": "aVQo2QZTVdzv",
        "outputId": "0b06cdd6-d4e4-44ce-f557-a3c6764f9ba0"
      },
      "execution_count": null,
      "outputs": [
        {
          "output_type": "execute_result",
          "data": {
            "text/plain": [
              "FLAG\n",
              "0       15299\n",
              "1        4383\n",
              "dtype: int64"
            ]
          },
          "metadata": {},
          "execution_count": 5
        }
      ]
    },
    {
      "cell_type": "code",
      "source": [
        "balancing_factor= y.value_counts()[0] // y.value_counts()[1]\n",
        "print(balancing_factor)"
      ],
      "metadata": {
        "colab": {
          "base_uri": "https://localhost:8080/"
        },
        "id": "ik9TwUZ-X2x8",
        "outputId": "8ba2f47f-0e9f-4fe1-bbe3-0d2d9f98b0a1"
      },
      "execution_count": null,
      "outputs": [
        {
          "output_type": "stream",
          "name": "stdout",
          "text": [
            "3\n"
          ]
        }
      ]
    },
    {
      "cell_type": "code",
      "source": [
        "%pip install xgboost"
      ],
      "metadata": {
        "colab": {
          "base_uri": "https://localhost:8080/"
        },
        "id": "2lUJIOO1SRZF",
        "outputId": "aab46d02-02ec-4586-d9f1-3617495ee571"
      },
      "execution_count": null,
      "outputs": [
        {
          "output_type": "stream",
          "name": "stdout",
          "text": [
            "Looking in indexes: https://pypi.org/simple, https://us-python.pkg.dev/colab-wheels/public/simple/\n",
            "Requirement already satisfied: xgboost in /usr/local/lib/python3.9/dist-packages (1.7.5)\n",
            "Requirement already satisfied: numpy in /usr/local/lib/python3.9/dist-packages (from xgboost) (1.22.4)\n",
            "Requirement already satisfied: scipy in /usr/local/lib/python3.9/dist-packages (from xgboost) (1.10.1)\n"
          ]
        }
      ]
    },
    {
      "cell_type": "code",
      "source": [
        "# Make use of the same parameter values, they seem to ensure the best results.\n",
        "from sklearn.model_selection import train_test_split\n",
        "\n",
        "x_train, x_test, y_train, y_test= train_test_split(X, y, test_size= 0.3, random_state= 42)"
      ],
      "metadata": {
        "id": "ldgC3purTmqJ"
      },
      "execution_count": null,
      "outputs": []
    },
    {
      "cell_type": "markdown",
      "source": [
        "**XGBoost without Cost Sensitive Learning**"
      ],
      "metadata": {
        "id": "oZsNa4jDV619"
      }
    },
    {
      "cell_type": "code",
      "source": [
        "import xgboost as xgb\n",
        "\n",
        "xg1= xgb.XGBClassifier()\n",
        "xg1.fit(x_train, y_train)\n",
        "y_pred1= xg1.predict(x_test)"
      ],
      "metadata": {
        "id": "Z3OZT6QMXMyB"
      },
      "execution_count": null,
      "outputs": []
    },
    {
      "cell_type": "code",
      "source": [
        "from sklearn.metrics import classification_report\n",
        "\n",
        "print(classification_report(y_test, y_pred1))"
      ],
      "metadata": {
        "colab": {
          "base_uri": "https://localhost:8080/"
        },
        "id": "GURrcngqWQZy",
        "outputId": "97733351-7d66-4078-c2df-e0d491a52326"
      },
      "execution_count": null,
      "outputs": [
        {
          "output_type": "stream",
          "name": "stdout",
          "text": [
            "              precision    recall  f1-score   support\n",
            "\n",
            "           0       0.99      1.00      0.99      4559\n",
            "           1       0.99      0.97      0.98      1346\n",
            "\n",
            "    accuracy                           0.99      5905\n",
            "   macro avg       0.99      0.98      0.99      5905\n",
            "weighted avg       0.99      0.99      0.99      5905\n",
            "\n"
          ]
        }
      ]
    },
    {
      "cell_type": "code",
      "source": [
        "from sklearn import metrics\n",
        "\n",
        "cm1= metrics.confusion_matrix(y_test, y_pred1)\n",
        "cm1"
      ],
      "metadata": {
        "id": "DO2HO1r9kt2R",
        "colab": {
          "base_uri": "https://localhost:8080/"
        },
        "outputId": "a1625d81-6ebc-4dec-d46d-30e752d49765"
      },
      "execution_count": null,
      "outputs": [
        {
          "output_type": "execute_result",
          "data": {
            "text/plain": [
              "array([[4540,   19],\n",
              "       [  40, 1306]])"
            ]
          },
          "metadata": {},
          "execution_count": 11
        }
      ]
    },
    {
      "cell_type": "code",
      "source": [
        "display_cm1 = metrics.ConfusionMatrixDisplay(confusion_matrix= cm1, display_labels= [False, True])\n",
        "\n",
        "display_cm1.plot()\n",
        "plt.title('XGBoost wo Cost Sensitive Learning')"
      ],
      "metadata": {
        "colab": {
          "base_uri": "https://localhost:8080/",
          "height": 472
        },
        "id": "7MIb0ArNlLZB",
        "outputId": "d0ea5641-44ac-468e-99cc-0802e3ee98f9"
      },
      "execution_count": null,
      "outputs": [
        {
          "output_type": "display_data",
          "data": {
            "text/plain": [
              "<Figure size 640x480 with 2 Axes>"
            ],
            "image/png": "[encoded data removed]"
          },
          "metadata": {}
        }
      ]
    },
    {
      "cell_type": "code",
      "source": [
        "from sklearn.metrics import accuracy_score\n",
        "\n",
        "print('XGBoost Model accuracy score: {0:0.4f}'.format(accuracy_score(y_test, y_pred1)))"
      ],
      "metadata": {
        "id": "l0vsGBOMlkiU",
        "colab": {
          "base_uri": "https://localhost:8080/"
        },
        "outputId": "e630b8ce-a560-4730-ff88-1d6eda9438a8"
      },
      "execution_count": null,
      "outputs": [
        {
          "output_type": "stream",
          "name": "stdout",
          "text": [
            "XGBoost Model accuracy score: 0.9900\n"
          ]
        }
      ]
    },
    {
      "cell_type": "code",
      "source": [
        "y_pred_train1= xg1.predict(x_train)\n",
        "print('Training-set accuracy score: {0:0.4f}'.format(accuracy_score(y_train, y_pred_train1)))"
      ],
      "metadata": {
        "colab": {
          "base_uri": "https://localhost:8080/"
        },
        "id": "9B9b-vA2XCoI",
        "outputId": "abc1fc66-fc9f-49d4-f879-3df1bfb070f3"
      },
      "execution_count": null,
      "outputs": [
        {
          "output_type": "stream",
          "name": "stdout",
          "text": [
            "Training-set accuracy score: 1.0000\n"
          ]
        }
      ]
    },
    {
      "cell_type": "markdown",
      "source": [
        "**XGBoost with Cost Sensitive Learning of 3**"
      ],
      "metadata": {
        "id": "K3WT7ypbWAQ5"
      }
    },
    {
      "cell_type": "code",
      "source": [
        "xg2= xgb.XGBClassifier(scale_pos_weight= balancing_factor)\n",
        "xg2.fit(x_train, y_train)\n",
        "y_pred2= xg2.predict(x_test)"
      ],
      "metadata": {
        "id": "LJUE794qXyRK"
      },
      "execution_count": null,
      "outputs": []
    },
    {
      "cell_type": "code",
      "source": [
        "print(classification_report(y_test, y_pred2))"
      ],
      "metadata": {
        "colab": {
          "base_uri": "https://localhost:8080/"
        },
        "id": "z-DgWbuyYgOY",
        "outputId": "98fc0884-855c-4964-8500-b1ebe2cf0490"
      },
      "execution_count": null,
      "outputs": [
        {
          "output_type": "stream",
          "name": "stdout",
          "text": [
            "              precision    recall  f1-score   support\n",
            "\n",
            "           0       0.99      1.00      0.99      4559\n",
            "           1       0.98      0.97      0.98      1346\n",
            "\n",
            "    accuracy                           0.99      5905\n",
            "   macro avg       0.99      0.99      0.99      5905\n",
            "weighted avg       0.99      0.99      0.99      5905\n",
            "\n"
          ]
        }
      ]
    },
    {
      "cell_type": "code",
      "source": [
        "cm2= metrics.confusion_matrix(y_test, y_pred2)\n",
        "cm2"
      ],
      "metadata": {
        "colab": {
          "base_uri": "https://localhost:8080/"
        },
        "id": "YEz-pnXyYh-G",
        "outputId": "0e60a6b8-479f-4381-d47f-087988b3dc6c"
      },
      "execution_count": null,
      "outputs": [
        {
          "output_type": "execute_result",
          "data": {
            "text/plain": [
              "array([[4538,   21],\n",
              "       [  34, 1312]])"
            ]
          },
          "metadata": {},
          "execution_count": 17
        }
      ]
    },
    {
      "cell_type": "code",
      "source": [
        "display_cm2= metrics.ConfusionMatrixDisplay(confusion_matrix= cm2, display_labels= [False, True])\n",
        "\n",
        "display_cm2.plot()\n",
        "plt.title('XGBoost w Cost Sensitive Learning 3')"
      ],
      "metadata": {
        "colab": {
          "base_uri": "https://localhost:8080/",
          "height": 472
        },
        "id": "Gdufx7zmYmNb",
        "outputId": "21c4444b-e951-4e3c-e3c3-61da07a4bb04"
      },
      "execution_count": null,
      "outputs": [
        {
          "output_type": "display_data",
          "data": {
            "text/plain": [
              "<Figure size 640x480 with 2 Axes>"
            ],
            "image/png": "[encoded data removed]"
          },
          "metadata": {}
        }
      ]
    }
  ]
}