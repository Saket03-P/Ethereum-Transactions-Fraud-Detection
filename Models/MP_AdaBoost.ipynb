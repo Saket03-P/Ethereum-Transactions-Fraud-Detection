{
  "nbformat": 4,
  "nbformat_minor": 0,
  "metadata": {
    "colab": {
      "provenance": [],
      "authorship_tag": "ABX9TyPRZds8Uw0atpVzvp2Deoeb",
      "include_colab_link": true
    },
    "kernelspec": {
      "name": "python3",
      "display_name": "Python 3"
    },
    "language_info": {
      "name": "python"
    }
  },
  "cells": [
    {
      "cell_type": "markdown",
      "metadata": {
        "id": "view-in-github",
        "colab_type": "text"
      },
      "source": [
        "<a href=\"https://colab.research.google.com/github/Saket03-P/Ethereum-Transactions-Fraud-Detection/blob/main/Models/MP_AdaBoost.ipynb\" target=\"_parent\"><img src=\"https://colab.research.google.com/assets/colab-badge.svg\" alt=\"Open In Colab\"/></a>"
      ]
    },
    {
      "cell_type": "markdown",
      "source": [
        "# Ethereum Fraud Detection using AdaBoost Classifier\n",
        "\n",
        "[AdaBoost Classifier](https://scikit-learn.org/stable/modules/generated/sklearn.ensemble.AdaBoostClassifier.html#sklearn.ensemble.AdaBoostClassifier)"
      ],
      "metadata": {
        "id": "XOit4-FFUzoY"
      }
    },
    {
      "cell_type": "code",
      "execution_count": null,
      "metadata": {
        "id": "TMNgTPPmT0bA"
      },
      "outputs": [],
      "source": [
        "import pandas as pd\n",
        "import numpy as np\n",
        "import seaborn as sns\n",
        "import matplotlib.pyplot as plt\n",
        "\n",
        "import warnings\n",
        "warnings.filterwarnings('ignore')\n",
        "%matplotlib inline"
      ]
    },
    {
      "cell_type": "code",
      "source": [
        "from google.colab import drive\n",
        "drive.mount('/content/gdrive')"
      ],
      "metadata": {
        "colab": {
          "base_uri": "https://localhost:8080/"
        },
        "id": "IvTdnL96Ug7B",
        "outputId": "e1140d1d-56b4-48ec-edc6-95e75e241361"
      },
      "execution_count": null,
      "outputs": [
        {
          "output_type": "stream",
          "name": "stdout",
          "text": [
            "Mounted at /content/gdrive\n"
          ]
        }
      ]
    },
    {
      "cell_type": "code",
      "source": [
        "path= '/content/gdrive/MyDrive/Mini_Project_2023/increased_transaction_dataset.csv'\n",
        "dft= pd.read_csv(path)\n",
        "dft.sample(5)"
      ],
      "metadata": {
        "colab": {
          "base_uri": "https://localhost:8080/",
          "height": 426
        },
        "id": "qA_pQ_2gUihI",
        "outputId": "b96ed568-a6e5-4ac7-c975-49dcb05c38d6"
      },
      "execution_count": null,
      "outputs": [
        {
          "output_type": "execute_result",
          "data": {
            "text/plain": [
              "       Unnamed: 0         FLAG  Avg min between sent tnx  \\\n",
              "18342       18342  Non - Fraud                    254.61   \n",
              "5384         5384  Non - Fraud                      0.00   \n",
              "6849         6849  Non - Fraud                      0.00   \n",
              "8293         8293  Non - Fraud                      5.03   \n",
              "6254         6254  Non - Fraud                      0.00   \n",
              "\n",
              "       Avg min between received tnx  Time Diff between first and last (Mins)  \\\n",
              "18342                    479.990875                            244293.766416   \n",
              "5384                       0.000000                                 8.000000   \n",
              "6849                   28836.340000                            259527.030000   \n",
              "8293                       0.000000                                15.080000   \n",
              "6254                    6265.280000                            338325.370000   \n",
              "\n",
              "       Sent tnx  Received Tnx  Number of Created Contracts  \\\n",
              "18342         9             6                            0   \n",
              "5384          1             1                            0   \n",
              "6849          0             9                            1   \n",
              "8293          3             2                            0   \n",
              "6254          0            54                            1   \n",
              "\n",
              "       max value received   avg val received  avg val sent  total Ether sent  \\\n",
              "18342           119.244302         36.343266      4.729060       1241.757210   \n",
              "5384              0.306748          0.306748      0.306244          0.306244   \n",
              "6849              3.360644          1.397789      0.000000          0.000000   \n",
              "8293           1182.560170       1000.500000    666.999528       2000.998585   \n",
              "6254              1.007072          0.684021      0.000000          0.000000   \n",
              "\n",
              "       total ether balance   ERC20 total Ether received  \\\n",
              "18342           500.761418                 5.698117e+06   \n",
              "5384              0.000504                 0.000000e+00   \n",
              "6849             12.580099                 0.000000e+00   \n",
              "8293              0.001415                 0.000000e+00   \n",
              "6254             36.937148                 1.770171e+00   \n",
              "\n",
              "        ERC20 total ether sent   ERC20 total Ether sent contract  \\\n",
              "18342             1.903444e+06                         11.486954   \n",
              "5384              0.000000e+00                          0.000000   \n",
              "6849              0.000000e+00                          0.000000   \n",
              "8293              0.000000e+00                          0.000000   \n",
              "6254              0.000000e+00                          0.000000   \n",
              "\n",
              "        ERC20 uniq sent addr   ERC20 uniq rec token name  \\\n",
              "18342                    1.0                         1.0   \n",
              "5384                     0.0                         0.0   \n",
              "6849                     0.0                         0.0   \n",
              "8293                     0.0                         0.0   \n",
              "6254                     0.0                         3.0   \n",
              "\n",
              "        ERC20 most sent token type   ERC20_most_rec_token_type  \n",
              "18342                          187                         410  \n",
              "5384                             4                           3  \n",
              "6849                             4                           3  \n",
              "8293                             4                           3  \n",
              "6254                           185                         309  "
            ],
            "text/html": [
              "\n",
              "  <div id=\"df-4dc7740b-9de4-490c-ae96-c4e7b5a7dd9e\">\n",
              "    <div class=\"colab-df-container\">\n",
              "      <div>\n",
              "<style scoped>\n",
              "    .dataframe tbody tr th:only-of-type {\n",
              "        vertical-align: middle;\n",
              "    }\n",
              "\n",
              "    .dataframe tbody tr th {\n",
              "        vertical-align: top;\n",
              "    }\n",
              "\n",
              "    .dataframe thead th {\n",
              "        text-align: right;\n",
              "    }\n",
              "</style>\n",
              "<table border=\"1\" class=\"dataframe\">\n",
              "  <thead>\n",
              "    <tr style=\"text-align: right;\">\n",
              "      <th></th>\n",
              "      <th>Unnamed: 0</th>\n",
              "      <th>FLAG</th>\n",
              "      <th>Avg min between sent tnx</th>\n",
              "      <th>Avg min between received tnx</th>\n",
              "      <th>Time Diff between first and last (Mins)</th>\n",
              "      <th>Sent tnx</th>\n",
              "      <th>Received Tnx</th>\n",
              "      <th>Number of Created Contracts</th>\n",
              "      <th>max value received</th>\n",
              "      <th>avg val received</th>\n",
              "      <th>avg val sent</th>\n",
              "      <th>total Ether sent</th>\n",
              "      <th>total ether balance</th>\n",
              "      <th>ERC20 total Ether received</th>\n",
              "      <th>ERC20 total ether sent</th>\n",
              "      <th>ERC20 total Ether sent contract</th>\n",
              "      <th>ERC20 uniq sent addr</th>\n",
              "      <th>ERC20 uniq rec token name</th>\n",
              "      <th>ERC20 most sent token type</th>\n",
              "      <th>ERC20_most_rec_token_type</th>\n",
              "    </tr>\n",
              "  </thead>\n",
              "  <tbody>\n",
              "    <tr>\n",
              "      <th>18342</th>\n",
              "      <td>18342</td>\n",
              "      <td>Non - Fraud</td>\n",
              "      <td>254.61</td>\n",
              "      <td>479.990875</td>\n",
              "      <td>244293.766416</td>\n",
              "      <td>9</td>\n",
              "      <td>6</td>\n",
              "      <td>0</td>\n",
              "      <td>119.244302</td>\n",
              "      <td>36.343266</td>\n",
              "      <td>4.729060</td>\n",
              "      <td>1241.757210</td>\n",
              "      <td>500.761418</td>\n",
              "      <td>5.698117e+06</td>\n",
              "      <td>1.903444e+06</td>\n",
              "      <td>11.486954</td>\n",
              "      <td>1.0</td>\n",
              "      <td>1.0</td>\n",
              "      <td>187</td>\n",
              "      <td>410</td>\n",
              "    </tr>\n",
              "    <tr>\n",
              "      <th>5384</th>\n",
              "      <td>5384</td>\n",
              "      <td>Non - Fraud</td>\n",
              "      <td>0.00</td>\n",
              "      <td>0.000000</td>\n",
              "      <td>8.000000</td>\n",
              "      <td>1</td>\n",
              "      <td>1</td>\n",
              "      <td>0</td>\n",
              "      <td>0.306748</td>\n",
              "      <td>0.306748</td>\n",
              "      <td>0.306244</td>\n",
              "      <td>0.306244</td>\n",
              "      <td>0.000504</td>\n",
              "      <td>0.000000e+00</td>\n",
              "      <td>0.000000e+00</td>\n",
              "      <td>0.000000</td>\n",
              "      <td>0.0</td>\n",
              "      <td>0.0</td>\n",
              "      <td>4</td>\n",
              "      <td>3</td>\n",
              "    </tr>\n",
              "    <tr>\n",
              "      <th>6849</th>\n",
              "      <td>6849</td>\n",
              "      <td>Non - Fraud</td>\n",
              "      <td>0.00</td>\n",
              "      <td>28836.340000</td>\n",
              "      <td>259527.030000</td>\n",
              "      <td>0</td>\n",
              "      <td>9</td>\n",
              "      <td>1</td>\n",
              "      <td>3.360644</td>\n",
              "      <td>1.397789</td>\n",
              "      <td>0.000000</td>\n",
              "      <td>0.000000</td>\n",
              "      <td>12.580099</td>\n",
              "      <td>0.000000e+00</td>\n",
              "      <td>0.000000e+00</td>\n",
              "      <td>0.000000</td>\n",
              "      <td>0.0</td>\n",
              "      <td>0.0</td>\n",
              "      <td>4</td>\n",
              "      <td>3</td>\n",
              "    </tr>\n",
              "    <tr>\n",
              "      <th>8293</th>\n",
              "      <td>8293</td>\n",
              "      <td>Non - Fraud</td>\n",
              "      <td>5.03</td>\n",
              "      <td>0.000000</td>\n",
              "      <td>15.080000</td>\n",
              "      <td>3</td>\n",
              "      <td>2</td>\n",
              "      <td>0</td>\n",
              "      <td>1182.560170</td>\n",
              "      <td>1000.500000</td>\n",
              "      <td>666.999528</td>\n",
              "      <td>2000.998585</td>\n",
              "      <td>0.001415</td>\n",
              "      <td>0.000000e+00</td>\n",
              "      <td>0.000000e+00</td>\n",
              "      <td>0.000000</td>\n",
              "      <td>0.0</td>\n",
              "      <td>0.0</td>\n",
              "      <td>4</td>\n",
              "      <td>3</td>\n",
              "    </tr>\n",
              "    <tr>\n",
              "      <th>6254</th>\n",
              "      <td>6254</td>\n",
              "      <td>Non - Fraud</td>\n",
              "      <td>0.00</td>\n",
              "      <td>6265.280000</td>\n",
              "      <td>338325.370000</td>\n",
              "      <td>0</td>\n",
              "      <td>54</td>\n",
              "      <td>1</td>\n",
              "      <td>1.007072</td>\n",
              "      <td>0.684021</td>\n",
              "      <td>0.000000</td>\n",
              "      <td>0.000000</td>\n",
              "      <td>36.937148</td>\n",
              "      <td>1.770171e+00</td>\n",
              "      <td>0.000000e+00</td>\n",
              "      <td>0.000000</td>\n",
              "      <td>0.0</td>\n",
              "      <td>3.0</td>\n",
              "      <td>185</td>\n",
              "      <td>309</td>\n",
              "    </tr>\n",
              "  </tbody>\n",
              "</table>\n",
              "</div>\n",
              "      <button class=\"colab-df-convert\" onclick=\"convertToInteractive('df-4dc7740b-9de4-490c-ae96-c4e7b5a7dd9e')\"\n",
              "              title=\"Convert this dataframe to an interactive table.\"\n",
              "              style=\"display:none;\">\n",
              "        \n",
              "  <svg xmlns=\"http://www.w3.org/2000/svg\" height=\"24px\"viewBox=\"0 0 24 24\"\n",
              "       width=\"24px\">\n",
              "    <path d=\"M0 0h24v24H0V0z\" fill=\"none\"/>\n",
              "    <path d=\"M18.56 5.44l.94 2.06.94-2.06 2.06-.94-2.06-.94-.94-2.06-.94 2.06-2.06.94zm-11 1L8.5 8.5l.94-2.06 2.06-.94-2.06-.94L8.5 2.5l-.94 2.06-2.06.94zm10 10l.94 2.06.94-2.06 2.06-.94-2.06-.94-.94-2.06-.94 2.06-2.06.94z\"/><path d=\"M17.41 7.96l-1.37-1.37c-.4-.4-.92-.59-1.43-.59-.52 0-1.04.2-1.43.59L10.3 9.45l-7.72 7.72c-.78.78-.78 2.05 0 2.83L4 21.41c.39.39.9.59 1.41.59.51 0 1.02-.2 1.41-.59l7.78-7.78 2.81-2.81c.8-.78.8-2.07 0-2.86zM5.41 20L4 18.59l7.72-7.72 1.47 1.35L5.41 20z\"/>\n",
              "  </svg>\n",
              "      </button>\n",
              "      \n",
              "  <style>\n",
              "    .colab-df-container {\n",
              "      display:flex;\n",
              "      flex-wrap:wrap;\n",
              "      gap: 12px;\n",
              "    }\n",
              "\n",
              "    .colab-df-convert {\n",
              "      background-color: #E8F0FE;\n",
              "      border: none;\n",
              "      border-radius: 50%;\n",
              "      cursor: pointer;\n",
              "      display: none;\n",
              "      fill: #1967D2;\n",
              "      height: 32px;\n",
              "      padding: 0 0 0 0;\n",
              "      width: 32px;\n",
              "    }\n",
              "\n",
              "    .colab-df-convert:hover {\n",
              "      background-color: #E2EBFA;\n",
              "      box-shadow: 0px 1px 2px rgba(60, 64, 67, 0.3), 0px 1px 3px 1px rgba(60, 64, 67, 0.15);\n",
              "      fill: #174EA6;\n",
              "    }\n",
              "\n",
              "    [theme=dark] .colab-df-convert {\n",
              "      background-color: #3B4455;\n",
              "      fill: #D2E3FC;\n",
              "    }\n",
              "\n",
              "    [theme=dark] .colab-df-convert:hover {\n",
              "      background-color: #434B5C;\n",
              "      box-shadow: 0px 1px 3px 1px rgba(0, 0, 0, 0.15);\n",
              "      filter: drop-shadow(0px 1px 2px rgba(0, 0, 0, 0.3));\n",
              "      fill: #FFFFFF;\n",
              "    }\n",
              "  </style>\n",
              "\n",
              "      <script>\n",
              "        const buttonEl =\n",
              "          document.querySelector('#df-4dc7740b-9de4-490c-ae96-c4e7b5a7dd9e button.colab-df-convert');\n",
              "        buttonEl.style.display =\n",
              "          google.colab.kernel.accessAllowed ? 'block' : 'none';\n",
              "\n",
              "        async function convertToInteractive(key) {\n",
              "          const element = document.querySelector('#df-4dc7740b-9de4-490c-ae96-c4e7b5a7dd9e');\n",
              "          const dataTable =\n",
              "            await google.colab.kernel.invokeFunction('convertToInteractive',\n",
              "                                                     [key], {});\n",
              "          if (!dataTable) return;\n",
              "\n",
              "          const docLinkHtml = 'Like what you see? Visit the ' +\n",
              "            '<a target=\"_blank\" href=https://colab.research.google.com/notebooks/data_table.ipynb>data table notebook</a>'\n",
              "            + ' to learn more about interactive tables.';\n",
              "          element.innerHTML = '';\n",
              "          dataTable['output_type'] = 'display_data';\n",
              "          await google.colab.output.renderOutput(dataTable, element);\n",
              "          const docLink = document.createElement('div');\n",
              "          docLink.innerHTML = docLinkHtml;\n",
              "          element.appendChild(docLink);\n",
              "        }\n",
              "      </script>\n",
              "    </div>\n",
              "  </div>\n",
              "  "
            ]
          },
          "metadata": {},
          "execution_count": 3
        }
      ]
    },
    {
      "cell_type": "code",
      "source": [
        "dft['FLAG']= dft['FLAG'].replace('Fraud', 1)\n",
        "dft['FLAG']= dft['FLAG'].replace('Non - Fraud', 0)\n",
        "\n",
        "dft['FLAG'].value_counts()"
      ],
      "metadata": {
        "colab": {
          "base_uri": "https://localhost:8080/"
        },
        "id": "X1sGYAN_UkSv",
        "outputId": "a1adf943-c0a5-43b9-ab34-3fc5a0f80f3c"
      },
      "execution_count": null,
      "outputs": [
        {
          "output_type": "execute_result",
          "data": {
            "text/plain": [
              "0    15299\n",
              "1     4383\n",
              "Name: FLAG, dtype: int64"
            ]
          },
          "metadata": {},
          "execution_count": 4
        }
      ]
    },
    {
      "cell_type": "code",
      "source": [
        "X= dft[['Avg min between sent tnx',\n",
        "       'Avg min between received tnx',\n",
        "       'Time Diff between first and last (Mins)', 'Sent tnx', 'Received Tnx',\n",
        "       'Number of Created Contracts', 'max value received ',\n",
        "       'avg val received', 'avg val sent', 'total Ether sent',\n",
        "       'total ether balance', ' ERC20 total Ether received',\n",
        "       ' ERC20 total ether sent', ' ERC20 total Ether sent contract',\n",
        "       ' ERC20 uniq sent addr', ' ERC20 uniq rec token name',\n",
        "       ' ERC20 most sent token type', ' ERC20_most_rec_token_type']]\n",
        "\n",
        "y= dft[['FLAG']]"
      ],
      "metadata": {
        "id": "9U-WwpfkUox4"
      },
      "execution_count": null,
      "outputs": []
    },
    {
      "cell_type": "code",
      "source": [
        "from sklearn.model_selection import train_test_split\n",
        "\n",
        "x_train, x_test, y_train, y_test= train_test_split(X, y, test_size= 0.3, random_state= 42)"
      ],
      "metadata": {
        "id": "Gp-TgtseUqbY"
      },
      "execution_count": null,
      "outputs": []
    },
    {
      "cell_type": "markdown",
      "source": [
        "**AdaBoost without Cost Sensitive Learning**"
      ],
      "metadata": {
        "id": "OTQVwnfFJQ0w"
      }
    },
    {
      "cell_type": "code",
      "source": [
        "from sklearn.ensemble import AdaBoostClassifier\n",
        "from sklearn.metrics import classification_report\n",
        "\n",
        "abc1 = AdaBoostClassifier()\n",
        "abc1.fit(x_train, y_train)\n",
        "y_pred1= abc1.predict(x_test)\n",
        "print(classification_report(y_test, y_pred1))"
      ],
      "metadata": {
        "id": "5eh1CUi5Us7P",
        "colab": {
          "base_uri": "https://localhost:8080/"
        },
        "outputId": "fa328e50-e264-4996-b202-7328bd74f833"
      },
      "execution_count": null,
      "outputs": [
        {
          "output_type": "stream",
          "name": "stdout",
          "text": [
            "              precision    recall  f1-score   support\n",
            "\n",
            "           0       0.98      0.99      0.99      4559\n",
            "           1       0.97      0.94      0.96      1346\n",
            "\n",
            "    accuracy                           0.98      5905\n",
            "   macro avg       0.98      0.97      0.97      5905\n",
            "weighted avg       0.98      0.98      0.98      5905\n",
            "\n"
          ]
        }
      ]
    },
    {
      "cell_type": "code",
      "source": [
        "from sklearn import metrics\n",
        "cm1= metrics.confusion_matrix(y_test, y_pred1)\n",
        "cm1"
      ],
      "metadata": {
        "id": "JIBY-aSXVBTo",
        "colab": {
          "base_uri": "https://localhost:8080/"
        },
        "outputId": "454bee47-1430-4969-a95c-e53015cab906"
      },
      "execution_count": null,
      "outputs": [
        {
          "output_type": "execute_result",
          "data": {
            "text/plain": [
              "array([[4516,   43],\n",
              "       [  76, 1270]])"
            ]
          },
          "metadata": {},
          "execution_count": 8
        }
      ]
    },
    {
      "cell_type": "code",
      "source": [
        "display_cm = metrics.ConfusionMatrixDisplay(confusion_matrix = cm1, display_labels= [False, True])\n",
        "\n",
        "display_cm.plot()\n",
        "plt.title('AdaBoost on Ethereum Fraud CTGAN dataset wo Cost Sensitive Learning')"
      ],
      "metadata": {
        "id": "xtoiMgtrVFTX",
        "colab": {
          "base_uri": "https://localhost:8080/",
          "height": 472
        },
        "outputId": "7e603384-2c6b-4a93-be9c-9df0c6d528a3"
      },
      "execution_count": null,
      "outputs": [
        {
          "output_type": "display_data",
          "data": {
            "text/plain": [
              "<Figure size 640x480 with 2 Axes>"
            ],
            "image/png": "[encoded data removed]"
          },
          "metadata": {}
        }
      ]
    },
    {
      "cell_type": "code",
      "source": [
        "from sklearn.metrics import accuracy_score, precision_score, recall_score\t\t\t\t\t\n",
        "\t\t\t\t\t\n",
        "print('XGBoost Model accuracy score: {0:0.4f}'.format(accuracy_score(y_test, y_pred1)))\t\t\t\t\t\n",
        "print('XGBoost Model precision score: {0:0.4f}'.format(precision_score(y_test, y_pred1)))\t\t\t\t\t\n",
        "print('XGBoost Model recall score: {0:0.4f}'.format(recall_score(y_test, y_pred1)))\t\t\t\t\t"
      ],
      "metadata": {
        "colab": {
          "base_uri": "https://localhost:8080/"
        },
        "id": "HafgRpFxHShQ",
        "outputId": "82b6431f-0e8e-467e-b09b-69c534272c1f"
      },
      "execution_count": null,
      "outputs": [
        {
          "output_type": "stream",
          "name": "stdout",
          "text": [
            "XGBoost Model accuracy score: 0.9798\n",
            "XGBoost Model precision score: 0.9673\n",
            "XGBoost Model recall score: 0.9435\n"
          ]
        }
      ]
    },
    {
      "cell_type": "markdown",
      "source": [
        "**AdaBoost with Cost Sensitive Learning of 3**"
      ],
      "metadata": {
        "id": "-pao1GLzJcgr"
      }
    },
    {
      "cell_type": "code",
      "source": [
        "balancing_factor= y.value_counts()[0] // y.value_counts()[1]\n",
        "print(balancing_factor)"
      ],
      "metadata": {
        "colab": {
          "base_uri": "https://localhost:8080/"
        },
        "id": "m9huOEs-J2Ct",
        "outputId": "f4bb8b07-03ee-44c8-8835-915ae3dc87b3"
      },
      "execution_count": null,
      "outputs": [
        {
          "output_type": "stream",
          "name": "stdout",
          "text": [
            "3\n"
          ]
        }
      ]
    },
    {
      "cell_type": "code",
      "source": [
        "# Calculate the class weights\n",
        "class_weight = {0: 1, 1: balancing_factor} # Set the weight of class 1 to 3\n",
        "\n",
        "# Create the sample weight vector\n",
        "sample_weight_train = [class_weight[y_train.iloc[i, 0]] for i in range(len(y_train))]"
      ],
      "metadata": {
        "id": "iDXxG6RAKPyI"
      },
      "execution_count": null,
      "outputs": []
    },
    {
      "cell_type": "code",
      "source": [
        "sample_weight_test= [class_weight[y_test.iloc[i, 0]] for i in range(len(y_test))]"
      ],
      "metadata": {
        "id": "YKoO5fXIiWtl"
      },
      "execution_count": null,
      "outputs": []
    },
    {
      "cell_type": "code",
      "source": [
        "abc2 = AdaBoostClassifier()\n",
        "abc2.fit(x_train, y_train, sample_weight= sample_weight_train)\n",
        "y_pred2= abc2.predict(x_test)\n",
        "print(classification_report(y_test, y_pred2, sample_weight= sample_weight_test))"
      ],
      "metadata": {
        "id": "V7u6lCtSHjny",
        "colab": {
          "base_uri": "https://localhost:8080/"
        },
        "outputId": "0b976788-4667-41ca-a1f7-104351cee929"
      },
      "execution_count": null,
      "outputs": [
        {
          "output_type": "stream",
          "name": "stdout",
          "text": [
            "              precision    recall  f1-score   support\n",
            "\n",
            "           0       0.96      0.98      0.97    4559.0\n",
            "           1       0.98      0.96      0.97    4038.0\n",
            "\n",
            "    accuracy                           0.97    8597.0\n",
            "   macro avg       0.97      0.97      0.97    8597.0\n",
            "weighted avg       0.97      0.97      0.97    8597.0\n",
            "\n"
          ]
        }
      ]
    },
    {
      "cell_type": "code",
      "source": [
        "cm2= metrics.confusion_matrix(y_test, y_pred2)\n",
        "cm2"
      ],
      "metadata": {
        "id": "-ll2wInUKAWD",
        "colab": {
          "base_uri": "https://localhost:8080/"
        },
        "outputId": "22622706-7f6e-442a-a86d-d77d95872ee6"
      },
      "execution_count": null,
      "outputs": [
        {
          "output_type": "execute_result",
          "data": {
            "text/plain": [
              "array([[4479,   80],\n",
              "       [  56, 1290]])"
            ]
          },
          "metadata": {},
          "execution_count": 15
        }
      ]
    },
    {
      "cell_type": "code",
      "source": [
        "display_cm2 = metrics.ConfusionMatrixDisplay(confusion_matrix = cm2, display_labels= [False, True])\n",
        "\n",
        "display_cm2.plot()\n",
        "plt.title('AdaBoost on Ethereum Fraud CTGAN dataset w Cost Sensitive Learning = 3')"
      ],
      "metadata": {
        "id": "4LnnvlAgKaic",
        "colab": {
          "base_uri": "https://localhost:8080/",
          "height": 472
        },
        "outputId": "c1894e1e-0901-4a4a-96fc-8161140c5adc"
      },
      "execution_count": null,
      "outputs": [
        {
          "output_type": "display_data",
          "data": {
            "text/plain": [
              "<Figure size 640x480 with 2 Axes>"
            ],
            "image/png": "[encoded data removed]"
          },
          "metadata": {}
        }
      ]
    },
    {
      "cell_type": "code",
      "source": [
        "print('Cost Sensitive XGBoost Model accuracy score: {0:0.4f}'.format(accuracy_score(y_test, y_pred2)))\t\t\t\t\t\t\t\n",
        "print('Cost Sensitive XGBoost Model precision score: {0:0.4f}'.format(precision_score(y_test, y_pred2)))\t\t\t\t\t\t\t\n",
        "print('Cost Sensitive XGBoost Model recall score: {0:0.4f}'.format(recall_score(y_test, y_pred2)))\t\t\t\t\t\t\t"
      ],
      "metadata": {
        "id": "sL4jvQpxKlHv",
        "colab": {
          "base_uri": "https://localhost:8080/"
        },
        "outputId": "791d6fc4-cd44-4d83-c527-7878f1238e4e"
      },
      "execution_count": null,
      "outputs": [
        {
          "output_type": "stream",
          "name": "stdout",
          "text": [
            "Cost Sensitive XGBoost Model accuracy score: 0.9770\n",
            "Cost Sensitive XGBoost Model precision score: 0.9416\n",
            "Cost Sensitive XGBoost Model recall score: 0.9584\n"
          ]
        }
      ]
    },
    {
      "cell_type": "markdown",
      "source": [
        "<hr>"
      ],
      "metadata": {
        "id": "tllq4FqV2ULT"
      }
    },
    {
      "cell_type": "code",
      "source": [
        "# # Splitting the dataset\n",
        "# from sklearn.model_selection import train_test_split\n",
        "# x_train, x_test, y_train, y_test= train_test_split(X, y, test_size= 0.3, random_state= 42)\n",
        "\n",
        "# # Calculating the balancing factor for Cost Sensitive Learning\n",
        "# balancing_factor= y.value_counts()[0] // y.value_counts()[1]\n",
        "\n",
        "# # Calculate the class weights\n",
        "# class_weight = {0: 1, 1: balancing_factor} # Set the weight of class 1 to 3\n",
        "\n",
        "# # Create the sample weight vector\n",
        "# sample_weight_train = [class_weight[y_train.iloc[i, 0]] for i in range(len(y_train))]\n",
        "# sample_weight_test= [class_weight[y_test.iloc[i, 0]] for i in range(len(y_test))]\n",
        "\n",
        "# # Apply Cost Sensitive Learning to the model\n",
        "# from sklearn.ensemble import AdaBoostClassifier\n",
        "# abc2 = AdaBoostClassifier()\n",
        "# abc2.fit(x_train, y_train, sample_weight= sample_weight_train)\n",
        "# y_pred2= abc2.predict(x_test)"
      ],
      "metadata": {
        "id": "ldgC3purTmqJ"
      },
      "execution_count": null,
      "outputs": []
    }
  ]
}