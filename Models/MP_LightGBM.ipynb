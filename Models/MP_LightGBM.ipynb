{
  "nbformat": 4,
  "nbformat_minor": 0,
  "metadata": {
    "colab": {
      "provenance": [],
      "authorship_tag": "ABX9TyNlIUowbwbs3Wr01F8KiY3I",
      "include_colab_link": true
    },
    "kernelspec": {
      "name": "python3",
      "display_name": "Python 3"
    },
    "language_info": {
      "name": "python"
    }
  },
  "cells": [
    {
      "cell_type": "markdown",
      "metadata": {
        "id": "view-in-github",
        "colab_type": "text"
      },
      "source": [
        "<a href=\"https://colab.research.google.com/github/Saket03-P/Ethereum-Transactions-Fraud-Detection/blob/main/Models/MP_LightGBM.ipynb\" target=\"_parent\"><img src=\"https://colab.research.google.com/assets/colab-badge.svg\" alt=\"Open In Colab\"/></a>"
      ]
    },
    {
      "cell_type": "markdown",
      "source": [
        "# Ethereum Fraud Detection using LightGBM\n",
        "\n",
        "[lightGBM](https://lightgbm.readthedocs.io/en/v3.3.2/index.html)"
      ],
      "metadata": {
        "id": "EdE86tA3COul"
      }
    },
    {
      "cell_type": "code",
      "execution_count": null,
      "metadata": {
        "id": "Q3cuha-kB0OH"
      },
      "outputs": [],
      "source": [
        "import pandas as pd\n",
        "import numpy as np\n",
        "import seaborn as sns\n",
        "import matplotlib.pyplot as plt\n",
        "\n",
        "import warnings\n",
        "warnings.filterwarnings('ignore')\n",
        "%matplotlib inline"
      ]
    },
    {
      "cell_type": "code",
      "source": [
        "from google.colab import drive\n",
        "drive.mount('/content/gdrive')"
      ],
      "metadata": {
        "colab": {
          "base_uri": "https://localhost:8080/"
        },
        "id": "YlpNJD8zCZn-",
        "outputId": "97ac929f-ed90-41cb-e09a-bb6d9365cc1d"
      },
      "execution_count": null,
      "outputs": [
        {
          "output_type": "stream",
          "name": "stdout",
          "text": [
            "Mounted at /content/gdrive\n"
          ]
        }
      ]
    },
    {
      "cell_type": "code",
      "source": [
        "path= '/content/gdrive/MyDrive/Cost Sensitive Approach for Ethereum Transactions Fraud Detection using Machine Learning/increased_transaction_dataset.csv'\n",
        "dft= pd.read_csv(path)\n",
        "dft.sample(5)"
      ],
      "metadata": {
        "colab": {
          "base_uri": "https://localhost:8080/",
          "height": 426
        },
        "id": "znySGqaICbYn",
        "outputId": "b61c2f13-ad6a-49f8-dd11-19cef806316a"
      },
      "execution_count": null,
      "outputs": [
        {
          "output_type": "execute_result",
          "data": {
            "text/plain": [
              "       Unnamed: 0         FLAG  Avg min between sent tnx  \\\n",
              "6017         6017  Non - Fraud                      0.00   \n",
              "9205         9205  Non - Fraud                      1.93   \n",
              "3060         3060  Non - Fraud                     32.78   \n",
              "12590       12590        Fraud                    107.17   \n",
              "9040         9040  Non - Fraud                  24302.23   \n",
              "\n",
              "       Avg min between received tnx  Time Diff between first and last (Mins)  \\\n",
              "6017                    4628.170000                                226780.22   \n",
              "9205                   34554.290000                                103668.65   \n",
              "3060                       0.000000                                    65.57   \n",
              "12590                    533.405909                                     0.00   \n",
              "9040                    7762.170000                                444186.57   \n",
              "\n",
              "       Sent tnx  Received Tnx  Number of Created Contracts  \\\n",
              "6017          0            49                            1   \n",
              "9205          3             3                            0   \n",
              "3060          2             1                            0   \n",
              "12590         1            62                            0   \n",
              "9040         17             4                            0   \n",
              "\n",
              "       max value received   avg val received  avg val sent  total Ether sent  \\\n",
              "6017              8.917944          3.008913      0.000000          0.000000   \n",
              "9205              5.000000          2.666485      2.665972          7.997917   \n",
              "3060            101.000000        101.000000     50.499475        100.998950   \n",
              "12590            46.621648          0.000000      1.810004       2482.209535   \n",
              "9040             47.004000         20.203280      3.496471         59.440000   \n",
              "\n",
              "       total ether balance   ERC20 total Ether received  \\\n",
              "6017            147.436757                 3.477845e+00   \n",
              "9205              0.001537                 0.000000e+00   \n",
              "3060              0.001050                 0.000000e+00   \n",
              "12590          1180.131377                 7.504427e+06   \n",
              "9040             21.373120                 9.615062e+04   \n",
              "\n",
              "        ERC20 total ether sent   ERC20 total Ether sent contract  \\\n",
              "6017                  0.000000                           0.00000   \n",
              "9205                  0.000000                           0.00000   \n",
              "3060                  0.000000                           0.00000   \n",
              "12590            835602.769405                           7.47324   \n",
              "9040              78089.451740                           0.00000   \n",
              "\n",
              "        ERC20 uniq sent addr   ERC20 uniq rec token name  \\\n",
              "6017                     0.0                         2.0   \n",
              "9205                     0.0                         0.0   \n",
              "3060                     0.0                         0.0   \n",
              "12590                    0.0                         2.0   \n",
              "9040                     4.0                        20.0   \n",
              "\n",
              "        ERC20 most sent token type   ERC20_most_rec_token_type  \n",
              "6017                           185                         119  \n",
              "9205                             4                           3  \n",
              "3060                             4                           3  \n",
              "12590                           -1                           1  \n",
              "9040                            71                         111  "
            ],
            "text/html": [
              "\n",
              "  <div id=\"df-8f102e9a-6656-4f5d-b60e-8d9d66ef6418\">\n",
              "    <div class=\"colab-df-container\">\n",
              "      <div>\n",
              "<style scoped>\n",
              "    .dataframe tbody tr th:only-of-type {\n",
              "        vertical-align: middle;\n",
              "    }\n",
              "\n",
              "    .dataframe tbody tr th {\n",
              "        vertical-align: top;\n",
              "    }\n",
              "\n",
              "    .dataframe thead th {\n",
              "        text-align: right;\n",
              "    }\n",
              "</style>\n",
              "<table border=\"1\" class=\"dataframe\">\n",
              "  <thead>\n",
              "    <tr style=\"text-align: right;\">\n",
              "      <th></th>\n",
              "      <th>Unnamed: 0</th>\n",
              "      <th>FLAG</th>\n",
              "      <th>Avg min between sent tnx</th>\n",
              "      <th>Avg min between received tnx</th>\n",
              "      <th>Time Diff between first and last (Mins)</th>\n",
              "      <th>Sent tnx</th>\n",
              "      <th>Received Tnx</th>\n",
              "      <th>Number of Created Contracts</th>\n",
              "      <th>max value received</th>\n",
              "      <th>avg val received</th>\n",
              "      <th>avg val sent</th>\n",
              "      <th>total Ether sent</th>\n",
              "      <th>total ether balance</th>\n",
              "      <th>ERC20 total Ether received</th>\n",
              "      <th>ERC20 total ether sent</th>\n",
              "      <th>ERC20 total Ether sent contract</th>\n",
              "      <th>ERC20 uniq sent addr</th>\n",
              "      <th>ERC20 uniq rec token name</th>\n",
              "      <th>ERC20 most sent token type</th>\n",
              "      <th>ERC20_most_rec_token_type</th>\n",
              "    </tr>\n",
              "  </thead>\n",
              "  <tbody>\n",
              "    <tr>\n",
              "      <th>6017</th>\n",
              "      <td>6017</td>\n",
              "      <td>Non - Fraud</td>\n",
              "      <td>0.00</td>\n",
              "      <td>4628.170000</td>\n",
              "      <td>226780.22</td>\n",
              "      <td>0</td>\n",
              "      <td>49</td>\n",
              "      <td>1</td>\n",
              "      <td>8.917944</td>\n",
              "      <td>3.008913</td>\n",
              "      <td>0.000000</td>\n",
              "      <td>0.000000</td>\n",
              "      <td>147.436757</td>\n",
              "      <td>3.477845e+00</td>\n",
              "      <td>0.000000</td>\n",
              "      <td>0.00000</td>\n",
              "      <td>0.0</td>\n",
              "      <td>2.0</td>\n",
              "      <td>185</td>\n",
              "      <td>119</td>\n",
              "    </tr>\n",
              "    <tr>\n",
              "      <th>9205</th>\n",
              "      <td>9205</td>\n",
              "      <td>Non - Fraud</td>\n",
              "      <td>1.93</td>\n",
              "      <td>34554.290000</td>\n",
              "      <td>103668.65</td>\n",
              "      <td>3</td>\n",
              "      <td>3</td>\n",
              "      <td>0</td>\n",
              "      <td>5.000000</td>\n",
              "      <td>2.666485</td>\n",
              "      <td>2.665972</td>\n",
              "      <td>7.997917</td>\n",
              "      <td>0.001537</td>\n",
              "      <td>0.000000e+00</td>\n",
              "      <td>0.000000</td>\n",
              "      <td>0.00000</td>\n",
              "      <td>0.0</td>\n",
              "      <td>0.0</td>\n",
              "      <td>4</td>\n",
              "      <td>3</td>\n",
              "    </tr>\n",
              "    <tr>\n",
              "      <th>3060</th>\n",
              "      <td>3060</td>\n",
              "      <td>Non - Fraud</td>\n",
              "      <td>32.78</td>\n",
              "      <td>0.000000</td>\n",
              "      <td>65.57</td>\n",
              "      <td>2</td>\n",
              "      <td>1</td>\n",
              "      <td>0</td>\n",
              "      <td>101.000000</td>\n",
              "      <td>101.000000</td>\n",
              "      <td>50.499475</td>\n",
              "      <td>100.998950</td>\n",
              "      <td>0.001050</td>\n",
              "      <td>0.000000e+00</td>\n",
              "      <td>0.000000</td>\n",
              "      <td>0.00000</td>\n",
              "      <td>0.0</td>\n",
              "      <td>0.0</td>\n",
              "      <td>4</td>\n",
              "      <td>3</td>\n",
              "    </tr>\n",
              "    <tr>\n",
              "      <th>12590</th>\n",
              "      <td>12590</td>\n",
              "      <td>Fraud</td>\n",
              "      <td>107.17</td>\n",
              "      <td>533.405909</td>\n",
              "      <td>0.00</td>\n",
              "      <td>1</td>\n",
              "      <td>62</td>\n",
              "      <td>0</td>\n",
              "      <td>46.621648</td>\n",
              "      <td>0.000000</td>\n",
              "      <td>1.810004</td>\n",
              "      <td>2482.209535</td>\n",
              "      <td>1180.131377</td>\n",
              "      <td>7.504427e+06</td>\n",
              "      <td>835602.769405</td>\n",
              "      <td>7.47324</td>\n",
              "      <td>0.0</td>\n",
              "      <td>2.0</td>\n",
              "      <td>-1</td>\n",
              "      <td>1</td>\n",
              "    </tr>\n",
              "    <tr>\n",
              "      <th>9040</th>\n",
              "      <td>9040</td>\n",
              "      <td>Non - Fraud</td>\n",
              "      <td>24302.23</td>\n",
              "      <td>7762.170000</td>\n",
              "      <td>444186.57</td>\n",
              "      <td>17</td>\n",
              "      <td>4</td>\n",
              "      <td>0</td>\n",
              "      <td>47.004000</td>\n",
              "      <td>20.203280</td>\n",
              "      <td>3.496471</td>\n",
              "      <td>59.440000</td>\n",
              "      <td>21.373120</td>\n",
              "      <td>9.615062e+04</td>\n",
              "      <td>78089.451740</td>\n",
              "      <td>0.00000</td>\n",
              "      <td>4.0</td>\n",
              "      <td>20.0</td>\n",
              "      <td>71</td>\n",
              "      <td>111</td>\n",
              "    </tr>\n",
              "  </tbody>\n",
              "</table>\n",
              "</div>\n",
              "      <button class=\"colab-df-convert\" onclick=\"convertToInteractive('df-8f102e9a-6656-4f5d-b60e-8d9d66ef6418')\"\n",
              "              title=\"Convert this dataframe to an interactive table.\"\n",
              "              style=\"display:none;\">\n",
              "        \n",
              "  <svg xmlns=\"http://www.w3.org/2000/svg\" height=\"24px\"viewBox=\"0 0 24 24\"\n",
              "       width=\"24px\">\n",
              "    <path d=\"M0 0h24v24H0V0z\" fill=\"none\"/>\n",
              "    <path d=\"M18.56 5.44l.94 2.06.94-2.06 2.06-.94-2.06-.94-.94-2.06-.94 2.06-2.06.94zm-11 1L8.5 8.5l.94-2.06 2.06-.94-2.06-.94L8.5 2.5l-.94 2.06-2.06.94zm10 10l.94 2.06.94-2.06 2.06-.94-2.06-.94-.94-2.06-.94 2.06-2.06.94z\"/><path d=\"M17.41 7.96l-1.37-1.37c-.4-.4-.92-.59-1.43-.59-.52 0-1.04.2-1.43.59L10.3 9.45l-7.72 7.72c-.78.78-.78 2.05 0 2.83L4 21.41c.39.39.9.59 1.41.59.51 0 1.02-.2 1.41-.59l7.78-7.78 2.81-2.81c.8-.78.8-2.07 0-2.86zM5.41 20L4 18.59l7.72-7.72 1.47 1.35L5.41 20z\"/>\n",
              "  </svg>\n",
              "      </button>\n",
              "      \n",
              "  <style>\n",
              "    .colab-df-container {\n",
              "      display:flex;\n",
              "      flex-wrap:wrap;\n",
              "      gap: 12px;\n",
              "    }\n",
              "\n",
              "    .colab-df-convert {\n",
              "      background-color: #E8F0FE;\n",
              "      border: none;\n",
              "      border-radius: 50%;\n",
              "      cursor: pointer;\n",
              "      display: none;\n",
              "      fill: #1967D2;\n",
              "      height: 32px;\n",
              "      padding: 0 0 0 0;\n",
              "      width: 32px;\n",
              "    }\n",
              "\n",
              "    .colab-df-convert:hover {\n",
              "      background-color: #E2EBFA;\n",
              "      box-shadow: 0px 1px 2px rgba(60, 64, 67, 0.3), 0px 1px 3px 1px rgba(60, 64, 67, 0.15);\n",
              "      fill: #174EA6;\n",
              "    }\n",
              "\n",
              "    [theme=dark] .colab-df-convert {\n",
              "      background-color: #3B4455;\n",
              "      fill: #D2E3FC;\n",
              "    }\n",
              "\n",
              "    [theme=dark] .colab-df-convert:hover {\n",
              "      background-color: #434B5C;\n",
              "      box-shadow: 0px 1px 3px 1px rgba(0, 0, 0, 0.15);\n",
              "      filter: drop-shadow(0px 1px 2px rgba(0, 0, 0, 0.3));\n",
              "      fill: #FFFFFF;\n",
              "    }\n",
              "  </style>\n",
              "\n",
              "      <script>\n",
              "        const buttonEl =\n",
              "          document.querySelector('#df-8f102e9a-6656-4f5d-b60e-8d9d66ef6418 button.colab-df-convert');\n",
              "        buttonEl.style.display =\n",
              "          google.colab.kernel.accessAllowed ? 'block' : 'none';\n",
              "\n",
              "        async function convertToInteractive(key) {\n",
              "          const element = document.querySelector('#df-8f102e9a-6656-4f5d-b60e-8d9d66ef6418');\n",
              "          const dataTable =\n",
              "            await google.colab.kernel.invokeFunction('convertToInteractive',\n",
              "                                                     [key], {});\n",
              "          if (!dataTable) return;\n",
              "\n",
              "          const docLinkHtml = 'Like what you see? Visit the ' +\n",
              "            '<a target=\"_blank\" href=https://colab.research.google.com/notebooks/data_table.ipynb>data table notebook</a>'\n",
              "            + ' to learn more about interactive tables.';\n",
              "          element.innerHTML = '';\n",
              "          dataTable['output_type'] = 'display_data';\n",
              "          await google.colab.output.renderOutput(dataTable, element);\n",
              "          const docLink = document.createElement('div');\n",
              "          docLink.innerHTML = docLinkHtml;\n",
              "          element.appendChild(docLink);\n",
              "        }\n",
              "      </script>\n",
              "    </div>\n",
              "  </div>\n",
              "  "
            ]
          },
          "metadata": {},
          "execution_count": 32
        }
      ]
    },
    {
      "cell_type": "code",
      "source": [
        "dft['FLAG']= dft['FLAG'].replace('Fraud', 1)\n",
        "dft['FLAG']= dft['FLAG'].replace('Non - Fraud', 0)\n",
        "\n",
        "dft['FLAG'].value_counts()"
      ],
      "metadata": {
        "colab": {
          "base_uri": "https://localhost:8080/"
        },
        "id": "peOyQM_3Cdh_",
        "outputId": "6c266f3a-167c-4b53-96a4-3691fe532952"
      },
      "execution_count": null,
      "outputs": [
        {
          "output_type": "execute_result",
          "data": {
            "text/plain": [
              "0    15299\n",
              "1     4383\n",
              "Name: FLAG, dtype: int64"
            ]
          },
          "metadata": {},
          "execution_count": 33
        }
      ]
    },
    {
      "cell_type": "code",
      "source": [
        "X= dft.drop(['FLAG', 'Unnamed: 0'], axis= 1)\n",
        "y= dft[['FLAG']]"
      ],
      "metadata": {
        "id": "zmyHSiWVCkgf"
      },
      "execution_count": null,
      "outputs": []
    },
    {
      "cell_type": "code",
      "source": [
        "%pip install lightgbm"
      ],
      "metadata": {
        "colab": {
          "base_uri": "https://localhost:8080/"
        },
        "id": "V5FLmeanCmn_",
        "outputId": "6d550391-5e80-4dbd-8f6f-8513094328f9"
      },
      "execution_count": null,
      "outputs": [
        {
          "output_type": "stream",
          "name": "stdout",
          "text": [
            "Looking in indexes: https://pypi.org/simple, https://us-python.pkg.dev/colab-wheels/public/simple/\n",
            "Requirement already satisfied: lightgbm in /usr/local/lib/python3.10/dist-packages (3.3.5)\n",
            "Requirement already satisfied: wheel in /usr/local/lib/python3.10/dist-packages (from lightgbm) (0.40.0)\n",
            "Requirement already satisfied: numpy in /usr/local/lib/python3.10/dist-packages (from lightgbm) (1.22.4)\n",
            "Requirement already satisfied: scipy in /usr/local/lib/python3.10/dist-packages (from lightgbm) (1.10.1)\n",
            "Requirement already satisfied: scikit-learn!=0.22.0 in /usr/local/lib/python3.10/dist-packages (from lightgbm) (1.2.2)\n",
            "Requirement already satisfied: joblib>=1.1.1 in /usr/local/lib/python3.10/dist-packages (from scikit-learn!=0.22.0->lightgbm) (1.2.0)\n",
            "Requirement already satisfied: threadpoolctl>=2.0.0 in /usr/local/lib/python3.10/dist-packages (from scikit-learn!=0.22.0->lightgbm) (3.1.0)\n"
          ]
        }
      ]
    },
    {
      "cell_type": "code",
      "source": [
        "from sklearn.model_selection import train_test_split\n",
        "\n",
        "x_train, x_test, y_train, y_test= train_test_split(X, y, test_size= 0.3, random_state= 42)"
      ],
      "metadata": {
        "id": "a-znNRG2C0mU"
      },
      "execution_count": null,
      "outputs": []
    },
    {
      "cell_type": "markdown",
      "source": [
        "**LightGBM without Cost Sensitive Learning**"
      ],
      "metadata": {
        "id": "FePqi9TFlvXf"
      }
    },
    {
      "cell_type": "code",
      "source": [
        "import lightgbm as lgb\n",
        "from sklearn.metrics import classification_report\n",
        "\n",
        "lg1 = lgb.LGBMClassifier()\n",
        "lg1.fit(x_train, y_train)\n",
        "y_pred1= lg1.predict(x_test)\n",
        "print(classification_report(y_test, y_pred1))"
      ],
      "metadata": {
        "colab": {
          "base_uri": "https://localhost:8080/"
        },
        "id": "v9UDis4PC4X8",
        "outputId": "ed974e26-fc14-49fb-f180-e9ed947b17ec"
      },
      "execution_count": null,
      "outputs": [
        {
          "output_type": "stream",
          "name": "stdout",
          "text": [
            "              precision    recall  f1-score   support\n",
            "\n",
            "           0       0.99      1.00      0.99      4559\n",
            "           1       0.99      0.96      0.97      1346\n",
            "\n",
            "    accuracy                           0.99      5905\n",
            "   macro avg       0.99      0.98      0.98      5905\n",
            "weighted avg       0.99      0.99      0.99      5905\n",
            "\n"
          ]
        }
      ]
    },
    {
      "cell_type": "code",
      "source": [
        "from sklearn import metrics\n",
        "cm1= metrics.confusion_matrix(y_test, y_pred1)\n",
        "cm1"
      ],
      "metadata": {
        "colab": {
          "base_uri": "https://localhost:8080/"
        },
        "id": "iKmpSYIGGA08",
        "outputId": "570ec597-bf40-4ca0-e168-57d13db368ea"
      },
      "execution_count": null,
      "outputs": [
        {
          "output_type": "execute_result",
          "data": {
            "text/plain": [
              "array([[4542,   17],\n",
              "       [  53, 1293]])"
            ]
          },
          "metadata": {},
          "execution_count": 37
        }
      ]
    },
    {
      "cell_type": "code",
      "source": [
        "display_cm1 = metrics.ConfusionMatrixDisplay(confusion_matrix = cm1, display_labels= [False, True])\n",
        "\n",
        "display_cm1.plot()\n",
        "plt.title('LightGBM on Ethereum Fraud CTGAN dataset wo Cost Sensitive Learning')"
      ],
      "metadata": {
        "colab": {
          "base_uri": "https://localhost:8080/",
          "height": 472
        },
        "id": "dlk75GImGBj7",
        "outputId": "2281e8d0-444e-4ab1-a889-3bf4c929b6f9"
      },
      "execution_count": null,
      "outputs": [
        {
          "output_type": "display_data",
          "data": {
            "text/plain": [
              "<Figure size 640x480 with 2 Axes>"
            ],
            "image/png": "[encoded data removed]"
          },
          "metadata": {}
        }
      ]
    },
    {
      "cell_type": "code",
      "source": [
        "from sklearn.metrics import accuracy_score, precision_score, recall_score\t\t\t\t\n",
        "\t\t\t\t\n",
        "print('LightGBM Model accuracy score: {0:0.4f}'.format(accuracy_score(y_test, y_pred1)))\t\t\t\t\n",
        "print('LightGBM Model precision score: {0:0.4f}'.format(precision_score(y_test, y_pred1)))\t\t\t\t\n",
        "print('LightGBM Model recall score: {0:0.4f}'.format(recall_score(y_test, y_pred1)))\t\t\t\t"
      ],
      "metadata": {
        "colab": {
          "base_uri": "https://localhost:8080/"
        },
        "id": "cLHq6SFdJ99a",
        "outputId": "83ad06b4-751d-45f8-c300-fd67ffbe5481"
      },
      "execution_count": null,
      "outputs": [
        {
          "output_type": "stream",
          "name": "stdout",
          "text": [
            "LightGBM Model accuracy score: 0.9881\n",
            "LightGBM Model precision score: 0.9870\n",
            "LightGBM Model recall score: 0.9606\n"
          ]
        }
      ]
    },
    {
      "cell_type": "markdown",
      "source": [
        "**LightGBM with Cost Sensitive Learning of 3**"
      ],
      "metadata": {
        "id": "WNZQctkFmIoK"
      }
    },
    {
      "cell_type": "code",
      "source": [
        "balancing_factor= y.value_counts()[0] // y.value_counts()[1] \n",
        "print(balancing_factor)"
      ],
      "metadata": {
        "colab": {
          "base_uri": "https://localhost:8080/"
        },
        "id": "0wzEIj46mPMx",
        "outputId": "6c09e3ec-47ec-4315-9421-f62ba0bfaa0d"
      },
      "execution_count": null,
      "outputs": [
        {
          "output_type": "stream",
          "name": "stdout",
          "text": [
            "3\n"
          ]
        }
      ]
    },
    {
      "cell_type": "code",
      "source": [
        "lg2 = lgb.LGBMClassifier(scale_pos_weight= balancing_factor)\n",
        "lg2.fit(x_train, y_train)\n",
        "y_pred2= lg2.predict(x_test)\n",
        "print(classification_report(y_test, y_pred2))"
      ],
      "metadata": {
        "colab": {
          "base_uri": "https://localhost:8080/"
        },
        "id": "HlaLt_6amLAO",
        "outputId": "cad2c8a8-4a3f-4801-f557-91949248c99c"
      },
      "execution_count": null,
      "outputs": [
        {
          "output_type": "stream",
          "name": "stdout",
          "text": [
            "              precision    recall  f1-score   support\n",
            "\n",
            "           0       0.99      1.00      0.99      4559\n",
            "           1       0.98      0.97      0.98      1346\n",
            "\n",
            "    accuracy                           0.99      5905\n",
            "   macro avg       0.99      0.98      0.99      5905\n",
            "weighted avg       0.99      0.99      0.99      5905\n",
            "\n"
          ]
        }
      ]
    },
    {
      "cell_type": "code",
      "source": [
        "cm2= metrics.confusion_matrix(y_test, y_pred2)\n",
        "cm2"
      ],
      "metadata": {
        "colab": {
          "base_uri": "https://localhost:8080/"
        },
        "id": "yvZCAVzgmmon",
        "outputId": "008df82a-ad03-4781-8e6c-6cf61ba66541"
      },
      "execution_count": null,
      "outputs": [
        {
          "output_type": "execute_result",
          "data": {
            "text/plain": [
              "array([[4538,   21],\n",
              "       [  40, 1306]])"
            ]
          },
          "metadata": {},
          "execution_count": 42
        }
      ]
    },
    {
      "cell_type": "code",
      "source": [
        "display_cm2 = metrics.ConfusionMatrixDisplay(confusion_matrix = cm2, display_labels= [False, True])\n",
        "\n",
        "display_cm2.plot()\n",
        "plt.title('LightGBM on Ethereum Fraud CTGAN dataset w Cost Sensitive Learning = 3')"
      ],
      "metadata": {
        "colab": {
          "base_uri": "https://localhost:8080/",
          "height": 472
        },
        "id": "YCWHK190nAyG",
        "outputId": "b76bb614-7848-46b1-8302-934691245147"
      },
      "execution_count": null,
      "outputs": [
        {
          "output_type": "display_data",
          "data": {
            "text/plain": [
              "<Figure size 640x480 with 2 Axes>"
            ],
            "image/png": "[encoded data removed]"
          },
          "metadata": {}
        }
      ]
    },
    {
      "cell_type": "code",
      "source": [
        "print('Cost Sensitive LightGBM Model accuracy score: {0:0.4f}'.format(accuracy_score(y_test, y_pred2)))\t\t\t\t\t\t\n",
        "print('Cost Sensitive LightGBM Model precision score: {0:0.4f}'.format(precision_score(y_test, y_pred2)))\t\t\t\t\t\t\n",
        "print('Cost Sensitive LightGBM Model recall score: {0:0.4f}'.format(recall_score(y_test, y_pred2)))\t\t\t\t\t\t"
      ],
      "metadata": {
        "colab": {
          "base_uri": "https://localhost:8080/"
        },
        "id": "I_dE3Ll6nGSn",
        "outputId": "ab623561-02a3-476d-8035-9e095500fd9c"
      },
      "execution_count": null,
      "outputs": [
        {
          "output_type": "stream",
          "name": "stdout",
          "text": [
            "Cost Sensitive LightGBM Model accuracy score: 0.9897\n",
            "Cost Sensitive LightGBM Model precision score: 0.9842\n",
            "Cost Sensitive LightGBM Model recall score: 0.9703\n"
          ]
        }
      ]
    },
    {
      "cell_type": "markdown",
      "source": [
        "<hr>"
      ],
      "metadata": {
        "id": "dddpF4AY1xH1"
      }
    },
    {
      "cell_type": "code",
      "source": [
        "# # Splitting the Dataset\n",
        "# from sklearn.model_selection import train_test_split\n",
        "# x_train, x_test, y_train, y_test= train_test_split(X, y, test_size= 0.3, random_state= 42)\n",
        "\n",
        "# # Calculating the balancing factor for Cost Sensitive Learning\n",
        "# balancing_factor= y.value_counts()[0] // y.value_counts()[1]\n",
        "\n",
        "# # Apply Cost Sensitive Learning to the model\n",
        "# import lightgbm as lgb\n",
        "# lg2 = lgb.LGBMClassifier(scale_pos_weight= balancing_factor)\n",
        "# lg2.fit(x_train, y_train)\n",
        "# y_pred2= lg2.predict(x_test)"
      ],
      "metadata": {
        "id": "cCE90wIfWQqy"
      },
      "execution_count": null,
      "outputs": []
    }
  ]
}