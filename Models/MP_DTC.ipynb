{
  "nbformat": 4,
  "nbformat_minor": 0,
  "metadata": {
    "colab": {
      "provenance": [],
      "mount_file_id": "1aRKSwzxljTIsb-UBckQiG1auWZdp8M3N",
      "authorship_tag": "ABX9TyM5IXkOMEoi/ahIwKJt1A9r",
      "include_colab_link": true
    },
    "kernelspec": {
      "name": "python3",
      "display_name": "Python 3"
    },
    "language_info": {
      "name": "python"
    }
  },
  "cells": [
    {
      "cell_type": "markdown",
      "metadata": {
        "id": "view-in-github",
        "colab_type": "text"
      },
      "source": [
        "<a href=\"https://colab.research.google.com/github/Saket03-P/Ethereum-Transactions-Fraud-Detection/blob/main/Models/MP_DTC.ipynb\" target=\"_parent\"><img src=\"https://colab.research.google.com/assets/colab-badge.svg\" alt=\"Open In Colab\"/></a>"
      ]
    },
    {
      "cell_type": "code",
      "execution_count": 2,
      "metadata": {
        "id": "QzIrTN6ktYUB"
      },
      "outputs": [],
      "source": [
        "import pandas as pd\n",
        "import pickle\n",
        "from sklearn.tree import DecisionTreeClassifier\n",
        "from sklearn.metrics import classification_report\n",
        "from sklearn.metrics import accuracy_score\n",
        "from sklearn.metrics import precision_score\n",
        "from sklearn.metrics import recall_score\n",
        "from sklearn.model_selection import train_test_split\n",
        "from sklearn.model_selection import GridSearchCV"
      ]
    },
    {
      "cell_type": "code",
      "execution_count": 6,
      "metadata": {
        "id": "TxqL05uTVCKf",
        "colab": {
          "base_uri": "https://localhost:8080/",
          "height": 357
        },
        "outputId": "50e97d3f-2683-4d99-cb87-d798358c9a34"
      },
      "outputs": [
        {
          "output_type": "execute_result",
          "data": {
            "text/plain": [
              "   Avg min between sent tnx  Avg min between received tnx  \\\n",
              "0                      0.00                      34682.01   \n",
              "1                 202252.36                      13562.51   \n",
              "2                  20807.97                      23567.05   \n",
              "3                     80.96                     155838.28   \n",
              "4                      0.00                       1060.76   \n",
              "\n",
              "   Time Diff between first and last (Mins)  Sent tnx  Received Tnx  \\\n",
              "0                                173410.03         0             5   \n",
              "1                                485879.80         2             6   \n",
              "2                                355000.13         8             8   \n",
              "3                                468324.43        10             3   \n",
              "4                                  7936.62         1             7   \n",
              "\n",
              "   Number of Created Contracts  max value received   avg val received  \\\n",
              "0                            1             0.000000          0.000000   \n",
              "1                            0             5.882285          2.358151   \n",
              "2                            0            15.252378          5.730538   \n",
              "3                            0             2.148150          0.762823   \n",
              "4                            0             1.493095          0.802857   \n",
              "\n",
              "   avg val sent  total Ether sent  total ether balance  \\\n",
              "0      0.000000          0.000000             0.000000   \n",
              "1      7.073171         14.146342             0.002562   \n",
              "2      5.730074         45.840593             0.003714   \n",
              "3      0.450816          4.508160            -2.219690   \n",
              "4      5.619140          5.619140             0.000861   \n",
              "\n",
              "    ERC20 total Ether received   ERC20 total ether sent  \\\n",
              "0                 1.000000e-12                      0.0   \n",
              "1                 1.092703e+03                      0.0   \n",
              "2                 0.000000e+00                      0.0   \n",
              "3                 0.000000e+00                      0.0   \n",
              "4                 1.337000e+01                      0.0   \n",
              "\n",
              "    ERC20 total Ether sent contract   ERC20 uniq sent addr  \\\n",
              "0                               0.0                    0.0   \n",
              "1                               0.0                    0.0   \n",
              "2                               0.0                    0.0   \n",
              "3                               0.0                    0.0   \n",
              "4                               0.0                    0.0   \n",
              "\n",
              "    ERC20 uniq rec token name   ERC20 most sent token type  \\\n",
              "0                         1.0                           -1   \n",
              "1                        10.0                          185   \n",
              "2                         0.0                            4   \n",
              "3                         0.0                            4   \n",
              "4                         1.0                            1   \n",
              "\n",
              "    ERC20_most_rec_token_type  \n",
              "0                          -1  \n",
              "1                         257  \n",
              "2                           3  \n",
              "3                           3  \n",
              "4                          74  "
            ],
            "text/html": [
              "\n",
              "  <div id=\"df-0096a7dc-8243-441d-80da-7c7973775329\">\n",
              "    <div class=\"colab-df-container\">\n",
              "      <div>\n",
              "<style scoped>\n",
              "    .dataframe tbody tr th:only-of-type {\n",
              "        vertical-align: middle;\n",
              "    }\n",
              "\n",
              "    .dataframe tbody tr th {\n",
              "        vertical-align: top;\n",
              "    }\n",
              "\n",
              "    .dataframe thead th {\n",
              "        text-align: right;\n",
              "    }\n",
              "</style>\n",
              "<table border=\"1\" class=\"dataframe\">\n",
              "  <thead>\n",
              "    <tr style=\"text-align: right;\">\n",
              "      <th></th>\n",
              "      <th>Avg min between sent tnx</th>\n",
              "      <th>Avg min between received tnx</th>\n",
              "      <th>Time Diff between first and last (Mins)</th>\n",
              "      <th>Sent tnx</th>\n",
              "      <th>Received Tnx</th>\n",
              "      <th>Number of Created Contracts</th>\n",
              "      <th>max value received</th>\n",
              "      <th>avg val received</th>\n",
              "      <th>avg val sent</th>\n",
              "      <th>total Ether sent</th>\n",
              "      <th>total ether balance</th>\n",
              "      <th>ERC20 total Ether received</th>\n",
              "      <th>ERC20 total ether sent</th>\n",
              "      <th>ERC20 total Ether sent contract</th>\n",
              "      <th>ERC20 uniq sent addr</th>\n",
              "      <th>ERC20 uniq rec token name</th>\n",
              "      <th>ERC20 most sent token type</th>\n",
              "      <th>ERC20_most_rec_token_type</th>\n",
              "    </tr>\n",
              "  </thead>\n",
              "  <tbody>\n",
              "    <tr>\n",
              "      <th>0</th>\n",
              "      <td>0.00</td>\n",
              "      <td>34682.01</td>\n",
              "      <td>173410.03</td>\n",
              "      <td>0</td>\n",
              "      <td>5</td>\n",
              "      <td>1</td>\n",
              "      <td>0.000000</td>\n",
              "      <td>0.000000</td>\n",
              "      <td>0.000000</td>\n",
              "      <td>0.000000</td>\n",
              "      <td>0.000000</td>\n",
              "      <td>1.000000e-12</td>\n",
              "      <td>0.0</td>\n",
              "      <td>0.0</td>\n",
              "      <td>0.0</td>\n",
              "      <td>1.0</td>\n",
              "      <td>-1</td>\n",
              "      <td>-1</td>\n",
              "    </tr>\n",
              "    <tr>\n",
              "      <th>1</th>\n",
              "      <td>202252.36</td>\n",
              "      <td>13562.51</td>\n",
              "      <td>485879.80</td>\n",
              "      <td>2</td>\n",
              "      <td>6</td>\n",
              "      <td>0</td>\n",
              "      <td>5.882285</td>\n",
              "      <td>2.358151</td>\n",
              "      <td>7.073171</td>\n",
              "      <td>14.146342</td>\n",
              "      <td>0.002562</td>\n",
              "      <td>1.092703e+03</td>\n",
              "      <td>0.0</td>\n",
              "      <td>0.0</td>\n",
              "      <td>0.0</td>\n",
              "      <td>10.0</td>\n",
              "      <td>185</td>\n",
              "      <td>257</td>\n",
              "    </tr>\n",
              "    <tr>\n",
              "      <th>2</th>\n",
              "      <td>20807.97</td>\n",
              "      <td>23567.05</td>\n",
              "      <td>355000.13</td>\n",
              "      <td>8</td>\n",
              "      <td>8</td>\n",
              "      <td>0</td>\n",
              "      <td>15.252378</td>\n",
              "      <td>5.730538</td>\n",
              "      <td>5.730074</td>\n",
              "      <td>45.840593</td>\n",
              "      <td>0.003714</td>\n",
              "      <td>0.000000e+00</td>\n",
              "      <td>0.0</td>\n",
              "      <td>0.0</td>\n",
              "      <td>0.0</td>\n",
              "      <td>0.0</td>\n",
              "      <td>4</td>\n",
              "      <td>3</td>\n",
              "    </tr>\n",
              "    <tr>\n",
              "      <th>3</th>\n",
              "      <td>80.96</td>\n",
              "      <td>155838.28</td>\n",
              "      <td>468324.43</td>\n",
              "      <td>10</td>\n",
              "      <td>3</td>\n",
              "      <td>0</td>\n",
              "      <td>2.148150</td>\n",
              "      <td>0.762823</td>\n",
              "      <td>0.450816</td>\n",
              "      <td>4.508160</td>\n",
              "      <td>-2.219690</td>\n",
              "      <td>0.000000e+00</td>\n",
              "      <td>0.0</td>\n",
              "      <td>0.0</td>\n",
              "      <td>0.0</td>\n",
              "      <td>0.0</td>\n",
              "      <td>4</td>\n",
              "      <td>3</td>\n",
              "    </tr>\n",
              "    <tr>\n",
              "      <th>4</th>\n",
              "      <td>0.00</td>\n",
              "      <td>1060.76</td>\n",
              "      <td>7936.62</td>\n",
              "      <td>1</td>\n",
              "      <td>7</td>\n",
              "      <td>0</td>\n",
              "      <td>1.493095</td>\n",
              "      <td>0.802857</td>\n",
              "      <td>5.619140</td>\n",
              "      <td>5.619140</td>\n",
              "      <td>0.000861</td>\n",
              "      <td>1.337000e+01</td>\n",
              "      <td>0.0</td>\n",
              "      <td>0.0</td>\n",
              "      <td>0.0</td>\n",
              "      <td>1.0</td>\n",
              "      <td>1</td>\n",
              "      <td>74</td>\n",
              "    </tr>\n",
              "  </tbody>\n",
              "</table>\n",
              "</div>\n",
              "      <button class=\"colab-df-convert\" onclick=\"convertToInteractive('df-0096a7dc-8243-441d-80da-7c7973775329')\"\n",
              "              title=\"Convert this dataframe to an interactive table.\"\n",
              "              style=\"display:none;\">\n",
              "        \n",
              "  <svg xmlns=\"http://www.w3.org/2000/svg\" height=\"24px\"viewBox=\"0 0 24 24\"\n",
              "       width=\"24px\">\n",
              "    <path d=\"M0 0h24v24H0V0z\" fill=\"none\"/>\n",
              "    <path d=\"M18.56 5.44l.94 2.06.94-2.06 2.06-.94-2.06-.94-.94-2.06-.94 2.06-2.06.94zm-11 1L8.5 8.5l.94-2.06 2.06-.94-2.06-.94L8.5 2.5l-.94 2.06-2.06.94zm10 10l.94 2.06.94-2.06 2.06-.94-2.06-.94-.94-2.06-.94 2.06-2.06.94z\"/><path d=\"M17.41 7.96l-1.37-1.37c-.4-.4-.92-.59-1.43-.59-.52 0-1.04.2-1.43.59L10.3 9.45l-7.72 7.72c-.78.78-.78 2.05 0 2.83L4 21.41c.39.39.9.59 1.41.59.51 0 1.02-.2 1.41-.59l7.78-7.78 2.81-2.81c.8-.78.8-2.07 0-2.86zM5.41 20L4 18.59l7.72-7.72 1.47 1.35L5.41 20z\"/>\n",
              "  </svg>\n",
              "      </button>\n",
              "      \n",
              "  <style>\n",
              "    .colab-df-container {\n",
              "      display:flex;\n",
              "      flex-wrap:wrap;\n",
              "      gap: 12px;\n",
              "    }\n",
              "\n",
              "    .colab-df-convert {\n",
              "      background-color: #E8F0FE;\n",
              "      border: none;\n",
              "      border-radius: 50%;\n",
              "      cursor: pointer;\n",
              "      display: none;\n",
              "      fill: #1967D2;\n",
              "      height: 32px;\n",
              "      padding: 0 0 0 0;\n",
              "      width: 32px;\n",
              "    }\n",
              "\n",
              "    .colab-df-convert:hover {\n",
              "      background-color: #E2EBFA;\n",
              "      box-shadow: 0px 1px 2px rgba(60, 64, 67, 0.3), 0px 1px 3px 1px rgba(60, 64, 67, 0.15);\n",
              "      fill: #174EA6;\n",
              "    }\n",
              "\n",
              "    [theme=dark] .colab-df-convert {\n",
              "      background-color: #3B4455;\n",
              "      fill: #D2E3FC;\n",
              "    }\n",
              "\n",
              "    [theme=dark] .colab-df-convert:hover {\n",
              "      background-color: #434B5C;\n",
              "      box-shadow: 0px 1px 3px 1px rgba(0, 0, 0, 0.15);\n",
              "      filter: drop-shadow(0px 1px 2px rgba(0, 0, 0, 0.3));\n",
              "      fill: #FFFFFF;\n",
              "    }\n",
              "  </style>\n",
              "\n",
              "      <script>\n",
              "        const buttonEl =\n",
              "          document.querySelector('#df-0096a7dc-8243-441d-80da-7c7973775329 button.colab-df-convert');\n",
              "        buttonEl.style.display =\n",
              "          google.colab.kernel.accessAllowed ? 'block' : 'none';\n",
              "\n",
              "        async function convertToInteractive(key) {\n",
              "          const element = document.querySelector('#df-0096a7dc-8243-441d-80da-7c7973775329');\n",
              "          const dataTable =\n",
              "            await google.colab.kernel.invokeFunction('convertToInteractive',\n",
              "                                                     [key], {});\n",
              "          if (!dataTable) return;\n",
              "\n",
              "          const docLinkHtml = 'Like what you see? Visit the ' +\n",
              "            '<a target=\"_blank\" href=https://colab.research.google.com/notebooks/data_table.ipynb>data table notebook</a>'\n",
              "            + ' to learn more about interactive tables.';\n",
              "          element.innerHTML = '';\n",
              "          dataTable['output_type'] = 'display_data';\n",
              "          await google.colab.output.renderOutput(dataTable, element);\n",
              "          const docLink = document.createElement('div');\n",
              "          docLink.innerHTML = docLinkHtml;\n",
              "          element.appendChild(docLink);\n",
              "        }\n",
              "      </script>\n",
              "    </div>\n",
              "  </div>\n",
              "  "
            ]
          },
          "metadata": {},
          "execution_count": 6
        }
      ],
      "source": [
        "ds=pd.read_csv('/content/drive/MyDrive/Colab Notebooks/increased_transaction_dataset.csv')\n",
        "x=ds.copy()  \n",
        "x.drop(['FLAG','Unnamed: 0'],axis=1,inplace=True)\n",
        "y=ds['FLAG']\n",
        "y=y.replace('Fraud',1)\n",
        "y=y.replace('Non - Fraud',0)\n",
        "counts=y.value_counts()\n",
        "balancing_factor={0:1,1:3}\n",
        "x.head(5)"
      ]
    },
    {
      "cell_type": "markdown",
      "source": [
        "decision tree classifier with hyper parameter tuning without cost sensitive"
      ],
      "metadata": {
        "id": "7YugHKDtbG94"
      }
    },
    {
      "cell_type": "code",
      "execution_count": 7,
      "metadata": {
        "colab": {
          "base_uri": "https://localhost:8080/"
        },
        "id": "Jgoh2gAdLIh7",
        "outputId": "fa42f15b-fb2c-47d1-9804-8f4d0517c7aa"
      },
      "outputs": [
        {
          "output_type": "stream",
          "name": "stdout",
          "text": [
            "              precision    recall  f1-score   support\n",
            "\n",
            "           0       0.98      1.00      0.99      4559\n",
            "           1       0.98      0.93      0.96      1346\n",
            "\n",
            "    accuracy                           0.98      5905\n",
            "   macro avg       0.98      0.96      0.97      5905\n",
            "weighted avg       0.98      0.98      0.98      5905\n",
            "\n",
            "0.9812023708721422\n",
            "0.9331352154531947\n",
            "0.9835552075176194\n"
          ]
        }
      ],
      "source": [
        "params = {'max_depth': [2, 4, 6], 'min_samples_split': [2, 4, 6]}\n",
        "x_train,x_test,y_train,y_test = train_test_split(x,y,test_size=0.3,random_state=42)\n",
        "# Create an instance of the Decision Tree Classifier\n",
        "dtc = DecisionTreeClassifier()\n",
        "\n",
        "# Create an instance of GridSearchCV and pass the classifier, hyperparameters, and number of folds for cross-validation\n",
        "grid = GridSearchCV(dtc, params, cv=5)\n",
        "\n",
        "# Fit the GridSearchCV instance to the training data\n",
        "grid.fit(x_train, y_train)\n",
        "\n",
        "# Access the best hyperparameters and best score\n",
        "best_params = grid.best_params_\n",
        "best_score = grid.best_score_\n",
        "\n",
        "# Use the best hyperparameters to train and test the model on the testing data\n",
        "best_dtc = DecisionTreeClassifier(**best_params)\n",
        "best_dtc.fit(x_train, y_train)\n",
        "best_score_test = best_dtc.score(x_test, y_test)\n",
        "predictions=best_dtc.predict(x_test)\n",
        "print(classification_report(y_test,predictions))\n",
        "print(accuracy_score(y_test,predictions))\n",
        "print(recall_score(y_test,predictions))\n",
        "print(precision_score(y_test,predictions))"
      ]
    },
    {
      "cell_type": "code",
      "source": [
        "cm=confusion_matrix(y_test,predictions)\n",
        "cm_display =ConfusionMatrixDisplay(confusion_matrix = cm, display_labels = [False, True])\n",
        "cm_display.plot()\n",
        "plt.title('Decision Tree Classifier on Ethereum Fraud CTGAN dataset without Cost Sensitive Learning')"
      ],
      "metadata": {
        "colab": {
          "base_uri": "https://localhost:8080/",
          "height": 489
        },
        "id": "vPyCL87VeJMl",
        "outputId": "58a9efc8-23bc-434b-e55e-973f7eaf5aa0"
      },
      "execution_count": null,
      "outputs": [
        {
          "output_type": "execute_result",
          "data": {
            "text/plain": [
              "Text(0.5, 1.0, 'Decision Tree Classifier on Ethereum Fraud CTGAN dataset without Cost Sensitive Learning')"
            ]
          },
          "metadata": {},
          "execution_count": 109
        },
        {
          "output_type": "display_data",
          "data": {
            "text/plain": [
              "<Figure size 640x480 with 2 Axes>"
            ],
            "image/png": "[encoded data removed]"
          },
          "metadata": {}
        }
      ]
    },
    {
      "cell_type": "markdown",
      "source": [
        "decision tree classifier with hyper parameter tuning and cst sensitive learning"
      ],
      "metadata": {
        "id": "rjZQbywlbAiH"
      }
    },
    {
      "cell_type": "code",
      "execution_count": null,
      "metadata": {
        "colab": {
          "base_uri": "https://localhost:8080/"
        },
        "outputId": "4e81496d-ba1c-4c70-fa97-c25c7f5a9e36",
        "id": "vm-ckRo3y2Lf"
      },
      "outputs": [
        {
          "output_type": "stream",
          "name": "stdout",
          "text": [
            "0.9786621507197291\n",
            "0.9264487369985142\n",
            "0.978806907378336\n"
          ]
        }
      ],
      "source": [
        "params = {'max_depth': [2, 4, 6, 8, 10, 12,14,16], 'min_samples_split': [2, 4, 6 ,8 ,10 ,12,14,16]}\n",
        "balancing_factor={0:1,1:3}\n",
        "\n",
        "# Create an instance of the Decision Tree Classifier\n",
        "dtc = DecisionTreeClassifier(class_weight=balancing_factor)\n",
        "\n",
        "# Create an instance of GridSearchCV and pass the classifier, hyperparameters, and number of folds for cross-validation\n",
        "grid = GridSearchCV(dtc, params, cv=5)\n",
        "\n",
        "# Fit the GridSearchCV instance to the training data\n",
        "grid.fit(x_train, y_train)\n",
        "\n",
        "# Access the best hyperparameters and best score\n",
        "best_params = grid.best_params_\n",
        "best_score = grid.best_score_\n",
        "\n",
        "# Use the best hyperparameters to train and test the model on the testing data\n",
        "best_dtc = DecisionTreeClassifier(**best_params)\n",
        "best_dtc.fit(x_train, y_train)\n",
        "best_score_test = best_dtc.score(x_test, y_test)\n",
        "predictions=best_dtc.predict(x_test)\n",
        "# print(classification_report(y_test,predictions))\n",
        "print(accuracy_score(y_test,predictions))\n",
        "print(recall_score(y_test,predictions))\n",
        "print(precision_score(y_test,predictions))"
      ]
    },
    {
      "cell_type": "code",
      "source": [
        "cm=confusion_matrix(y_test,predictions)\n",
        "cm_display =ConfusionMatrixDisplay(confusion_matrix = cm, display_labels = [False, True])\n",
        "cm_display.plot()\n",
        "#plt.show()"
      ],
      "metadata": {
        "colab": {
          "base_uri": "https://localhost:8080/",
          "height": 466
        },
        "id": "8hDruj60eK1C",
        "outputId": "e91cd5c1-f97a-4691-ddc5-2cc452c1fbfb"
      },
      "execution_count": null,
      "outputs": [
        {
          "output_type": "execute_result",
          "data": {
            "text/plain": [
              "<sklearn.metrics._plot.confusion_matrix.ConfusionMatrixDisplay at 0x7fa296ec69e0>"
            ]
          },
          "metadata": {},
          "execution_count": 111
        },
        {
          "output_type": "display_data",
          "data": {
            "text/plain": [
              "<Figure size 640x480 with 2 Axes>"
            ],
            "image/png": "[encoded data removed]"
          },
          "metadata": {}
        }
      ]
    },
    {
      "cell_type": "markdown",
      "source": [
        "decision tree classifier with hyper parameter tuning and cst sensitive learning =3"
      ],
      "metadata": {
        "id": "0AKGo6heuxoY"
      }
    },
    {
      "cell_type": "code",
      "execution_count": null,
      "metadata": {
        "colab": {
          "base_uri": "https://localhost:8080/"
        },
        "id": "XR8Cuh27V9ns",
        "outputId": "d8236b64-7865-4df1-d6a1-486a5d4c1eea"
      },
      "outputs": [
        {
          "output_type": "stream",
          "name": "stdout",
          "text": [
            "              precision    recall  f1-score   support\n",
            "\n",
            "           0       0.98      0.99      0.98      4559\n",
            "           1       0.95      0.95      0.95      1346\n",
            "\n",
            "    accuracy                           0.98      5905\n",
            "   macro avg       0.97      0.97      0.97      5905\n",
            "weighted avg       0.98      0.98      0.98      5905\n",
            "\n",
            "0.9766299745977984\n",
            "0.9479940564635958\n",
            "0.9494047619047619\n",
            "Index([' ERC20 most sent token type', ' ERC20_most_rec_token_type',\n",
            "       'Avg min between received tnx',\n",
            "       'Time Diff between first and last (Mins)', 'avg val received',\n",
            "       ' ERC20 total Ether sent contract', 'Received Tnx', 'avg val sent',\n",
            "       ' ERC20 uniq sent addr', 'Avg min between sent tnx'],\n",
            "      dtype='object')\n"
          ]
        }
      ],
      "source": [
        "params = {'max_depth': [2, 4, 6, 8, 10, 12], 'min_samples_split': [2, 4, 6 ,8 ,10 ,12]}\n",
        "\n",
        "# Create an instance of the Decision Tree Classifier\n",
        "dtc = DecisionTreeClassifier(class_weight='balanced')\n",
        "\n",
        "# Create an instance of GridSearchCV and pass the classifier, hyperparameters, and number of folds for cross-validation\n",
        "grid = GridSearchCV(dtc, params, cv=5)\n",
        "\n",
        "# Fit the GridSearchCV instance to the training data\n",
        "grid.fit(x_train, y_train)\n",
        "\n",
        "# Access the best hyperparameters and best score\n",
        "best_params = grid.best_params_\n",
        "best_score = grid.best_score_\n",
        "\n",
        "# Use the best hyperparameters to train and test the model on the testing data\n",
        "best_dtc = DecisionTreeClassifier(**best_params)\n",
        "best_dtc.fit(x_train, y_train)\n",
        "best_score_test = best_dtc.score(x_test, y_test)\n",
        "predictions=best_dtc.predict(x_test)\n",
        "print(classification_report(y_test,predictions))\n",
        "print(accuracy_score(y_test,predictions))\n",
        "print(recall_score(y_test,predictions))\n",
        "print(precision_score(y_test,predictions))\n",
        "importances = best_dtc.feature_importances_\n",
        "indices = importances.argsort()[::-1] # sort in descending order\n",
        "n = 10 # select top n features\n",
        "top_features = x_train.columns[indices][:n]\n",
        "print(top_features)"
      ]
    },
    {
      "cell_type": "code",
      "source": [
        "cm=confusion_matrix(y_test,predictions)\n",
        "cm_display =ConfusionMatrixDisplay(confusion_matrix = cm, display_labels = [False, True])\n",
        "cm_display.plot()\n",
        "plt.title('Decision Tree Classifier on Ethereum Fraud CTGAN dataset with Cost Sensitive Learning = 3')"
      ],
      "metadata": {
        "colab": {
          "base_uri": "https://localhost:8080/",
          "height": 489
        },
        "id": "2KDXXWnmeMjo",
        "outputId": "7fcd2a00-654c-4076-bdc7-cca9d4c16472"
      },
      "execution_count": null,
      "outputs": [
        {
          "output_type": "execute_result",
          "data": {
            "text/plain": [
              "Text(0.5, 1.0, 'Decision Tree Classifier on Ethereum Fraud CTGAN dataset with Cost Sensitive Learning = 3')"
            ]
          },
          "metadata": {},
          "execution_count": 113
        },
        {
          "output_type": "display_data",
          "data": {
            "text/plain": [
              "<Figure size 640x480 with 2 Axes>"
            ],
            "image/png": "[encoded data removed]"
          },
          "metadata": {}
        }
      ]
    }
  ]
}